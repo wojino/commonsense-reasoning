{
  "cells": [
    {
      "cell_type": "markdown",
      "metadata": {
        "id": "b0xIHApR4JXZ"
      },
      "source": [
        "# 0. Preliminary"
      ]
    },
    {
      "cell_type": "code",
      "execution_count": null,
      "metadata": {
        "colab": {
          "base_uri": "https://localhost:8080/"
        },
        "id": "PX4jvnM54D92",
        "outputId": "2462ae48-c7e5-4358-f0d5-31b693b45847"
      },
      "outputs": [],
      "source": [
        "from google.colab import drive\n",
        "drive.mount('/content/gdrive')"
      ]
    },
    {
      "cell_type": "markdown",
      "metadata": {
        "id": "714YpPX04VbE"
      },
      "source": [
        "# 1. Code"
      ]
    },
    {
      "cell_type": "code",
      "execution_count": null,
      "metadata": {
        "id": "zXkpN-SC4izq"
      },
      "outputs": [],
      "source": [
        "import pandas as pd\n",
        "import json\n",
        "from tqdm import notebook, tqdm"
      ]
    },
    {
      "cell_type": "code",
      "execution_count": null,
      "metadata": {
        "colab": {
          "base_uri": "https://localhost:8080/",
          "height": 424
        },
        "id": "eZQ1e7Fy5Ie9",
        "outputId": "3511ae0c-67fa-427f-fb85-2a0803f156bf"
      },
      "outputs": [],
      "source": [
        "colnames = ['Idx','Tok1','Tok2']\n",
        "newPIQA = pd.read_csv('/content/gdrive/MyDrive/outputs/newPIQA.csv', names=colnames, header=None)\n",
        "display(newPIQA)"
      ]
    },
    {
      "cell_type": "code",
      "execution_count": null,
      "metadata": {
        "colab": {
          "base_uri": "https://localhost:8080/",
          "height": 424
        },
        "id": "_3nsHARCWV31",
        "outputId": "dda7b7da-531d-4e51-bea2-b0284503a961"
      },
      "outputs": [],
      "source": [
        "colnames = ['head','relation','tail','verbs_head','verbs_tail','match']\n",
        "atomic_train = pd.read_csv('/content/gdrive/MyDrive/james/train_full.tsv', sep='\\t', names=colnames, header=None)\n",
        "atomic_train['verbs_head'] = atomic_train['verbs_head'].apply(lambda x: set(map(lambda y: y[1:-1], x[1:-1].split(', '))) if type(x) == str else set())\n",
        "atomic_train['verbs_tail'] = atomic_train['verbs_tail'].apply(lambda x: set(map(lambda y: y[1:-1], x[1:-1].split(', '))) if type(x) == str else set())\n",
        "atomic_train['match']=0\n",
        "display(atomic_train)"
      ]
    },
    {
      "cell_type": "code",
      "execution_count": null,
      "metadata": {
        "colab": {
          "base_uri": "https://localhost:8080/",
          "height": 424
        },
        "id": "8uD1OZ6GXiPl",
        "outputId": "c7199413-9626-45bb-8208-fde961c5211b"
      },
      "outputs": [],
      "source": [
        "half_PIQA_1=newPIQA[:30000]\n",
        "half_PIQA_2=newPIQA[30000:]\n",
        "display(half_PIQA_2)"
      ]
    },
    {
      "cell_type": "markdown",
      "metadata": {
        "id": "j8IuPDqvxBmn"
      },
      "source": [
        "# 2-1. PIQA-ATOMIC-half-1"
      ]
    },
    {
      "cell_type": "code",
      "execution_count": null,
      "metadata": {
        "colab": {
          "base_uri": "https://localhost:8080/"
        },
        "id": "wLNRtCyEYtbh",
        "outputId": "ab011548-746c-420a-a710-64d927bb91e8"
      },
      "outputs": [],
      "source": [
        "piqa_len_1=len(half_PIQA_1)\n",
        "print(piqa_len_1)"
      ]
    },
    {
      "cell_type": "code",
      "execution_count": null,
      "metadata": {
        "colab": {
          "base_uri": "https://localhost:8080/",
          "height": 408,
          "referenced_widgets": [
            "c1ce4a030854413a955a3e2c7665bb7e",
            "721fd8aeb52b40f29c1bc204e589e177",
            "beeb59ef0de540a1b6948f47c8fe0955",
            "63832e2055174d9e91be8620c9035c2c",
            "3caa4d3d5e0645ec9a62b9132b79ce9a",
            "7d5bc68a6c8e4219843282250c685bc5",
            "73f9594b0d8444619b6a5f09820b7f97",
            "2e6edc4476a3482fa12f14d008570018",
            "daf80079600e41ff997ccae8b8f1e478",
            "4b60c78ea08b452b8b50d98928a73f66",
            "ab24d385f482479da2cd9f851e143398"
          ]
        },
        "id": "TqH3WscZZaPC",
        "outputId": "fa23c019-04f9-4740-fa47-4143c93b5e2c"
      },
      "outputs": [],
      "source": [
        "d={}\n",
        "i=0\n",
        "atomic_train['match']=0\n",
        "for row in notebook.tqdm(half_PIQA_1.itertuples(),total=piqa_len_1):\n",
        "  p_idx=half_PIQA_1.at[row.Index,\"Idx\"]\n",
        "  tok1=half_PIQA_1.at[row.Index,\"Tok1\"]\n",
        "  tok2=half_PIQA_1.at[row.Index,\"Tok2\"]\n",
        "  if(tok1==tok2):\n",
        "    for row2 in atomic_train.itertuples():\n",
        "      head_set=row2.verbs_head\n",
        "      tail_set=row2.verbs_tail\n",
        "      if(tok1 in head_set):\n",
        "          if(tok2 in tail_set):\n",
        "            atomic_train.at[row2.Index, 'match']+=1\n",
        "            d[i]={\"verb\":tok1+\", \"+tok2,\"PIQA_Idx\":p_idx,\"ATOMIC_Idx\":row2.Index,\"head\":row2.head,\"relation\":row2.relation,\"tail\":row2.tail}\n",
        "            i+=1\n",
        "  else:\n",
        "    for row2 in atomic_train.itertuples():\n",
        "      head_set=row2.verbs_head\n",
        "      tail_set=row2.verbs_tail\n",
        "      if(tok1 in head_set) or (tok1 in tail_set):\n",
        "          if(tok2 in head_set) or (tok2 in tail_set):\n",
        "            atomic_train.at[row2.Index, 'match']+=1\n",
        "            d[i]={\"verb\":tok1+\", \"+tok2,\"PIQA_Idx\":p_idx,\"ATOMIC_Idx\":row2.Index,\"head\":row2.head,\"relation\":row2.relation,\"tail\":row2.tail}\n",
        "            i+=1\n",
        "piqa_atomic_half_1=pd.DataFrame.from_dict(d,orient='index')"
      ]
    },
    {
      "cell_type": "code",
      "execution_count": null,
      "metadata": {
        "colab": {
          "base_uri": "https://localhost:8080/",
          "height": 424
        },
        "id": "UQDZQemuWY4u",
        "outputId": "c5aca7ec-e68d-4f99-ffa0-ee463bb70dbf"
      },
      "outputs": [],
      "source": [
        "display(piqa_atomic_half_1)"
      ]
    },
    {
      "cell_type": "code",
      "execution_count": null,
      "metadata": {
        "id": "QDBKsrwAMGMT"
      },
      "outputs": [],
      "source": [
        "piqa_atomic_half_1.to_csv(\"/content/gdrive/MyDrive/PIQA-ATOMIC_half_1.tsv\", sep=\"\\t\", index=False, header=False)\n",
        "atomic_train.to_csv(\"/content/gdrive/MyDrive/train_counted_1.tsv\", sep=\"\\t\", index=False, header=False)"
      ]
    },
    {
      "cell_type": "markdown",
      "metadata": {
        "id": "IHWM2A4Q3iit"
      },
      "source": [
        "# 2-2. PIQA-ATOMIC-half-2"
      ]
    },
    {
      "cell_type": "code",
      "execution_count": null,
      "metadata": {
        "colab": {
          "base_uri": "https://localhost:8080/"
        },
        "id": "2HRcL5DLxs0E",
        "outputId": "4c434941-a570-4b6f-fbe0-8416cc37ccd0"
      },
      "outputs": [],
      "source": [
        "piqa_len_2=len(half_PIQA_2)\n",
        "print(piqa_len_2)"
      ]
    },
    {
      "cell_type": "code",
      "execution_count": null,
      "metadata": {
        "colab": {
          "background_save": true,
          "base_uri": "https://localhost:8080/",
          "height": 49,
          "referenced_widgets": [
            "c996c4d1813046f8946b11748895ba68",
            "1125fa26ee1942b8a0a4185408eff178",
            "640bf79bff484269acce2a5bd30a068c",
            "078a94e9f8714644815ee84a9ca93336",
            "a7b73c530d794ebca987cd4b702b5148",
            "62669ea54758482f9f60cb100191d273",
            "875001bd28dc4899abec7eb731b70f07",
            "d53fa2cd5c73443bbe38bd9b214e6ebc",
            "6cf932564bb94442bb7e5e9ed2e8625a",
            "fcb35fef63cb430786424d6923397bb6",
            "ddb74c59750f4b1b92fdf54e4d73904a"
          ]
        },
        "id": "5jw44czv3qNd",
        "outputId": "d2b76b4c-536a-499f-d5bd-4a83bfb7bd1d"
      },
      "outputs": [],
      "source": [
        "d={}\n",
        "i=0\n",
        "atomic_train['match']=0\n",
        "for row in notebook.tqdm(half_PIQA_2.itertuples(),total=piqa_len_2):\n",
        "  p_idx=half_PIQA_2.at[row.Index,\"Idx\"]\n",
        "  tok1=half_PIQA_2.at[row.Index,\"Tok1\"]\n",
        "  tok2=half_PIQA_2.at[row.Index,\"Tok2\"]\n",
        "  if(tok1==tok2):\n",
        "    for row2 in atomic_train.itertuples():\n",
        "      head_set=row2.verbs_head\n",
        "      tail_set=row2.verbs_tail\n",
        "      if(tok1 in head_set):\n",
        "          if(tok2 in tail_set):\n",
        "            atomic_train.at[row2.Index, 'match']+=1\n",
        "            d[i]={\"verb\":tok1+\", \"+tok2,\"PIQA_Idx\":p_idx,\"ATOMIC_Idx\":row2.Index,\"head\":row2.head,\"relation\":row2.relation,\"tail\":row2.tail}\n",
        "            i+=1\n",
        "  else:\n",
        "    for row2 in atomic_train.itertuples():\n",
        "      head_set=row2.verbs_head\n",
        "      tail_set=row2.verbs_tail\n",
        "      if(tok1 in head_set) or (tok1 in tail_set):\n",
        "          if(tok2 in head_set) or (tok2 in tail_set):\n",
        "            atomic_train.at[row2.Index, 'match']+=1\n",
        "            d[i]={\"verb\":tok1+\", \"+tok2,\"PIQA_Idx\":p_idx,\"ATOMIC_Idx\":row2.Index,\"head\":row2.head,\"relation\":row2.relation,\"tail\":row2.tail}\n",
        "            i+=1\n",
        "piqa_atomic_half_2=pd.DataFrame.from_dict(d,orient='index')"
      ]
    },
    {
      "cell_type": "code",
      "execution_count": null,
      "metadata": {
        "colab": {
          "background_save": true
        },
        "id": "UHoAqDgn3xVt",
        "outputId": "4bc50d0f-d5e9-4682-eccf-8075dfa31445"
      },
      "outputs": [],
      "source": [
        "piqa_atomic_half_2=pd.DataFrame.from_dict(d,orient='index')\n",
        "display(piqa_atomic_half_2)"
      ]
    },
    {
      "cell_type": "code",
      "execution_count": null,
      "metadata": {
        "colab": {
          "background_save": true
        },
        "id": "_k-JuUec30_L"
      },
      "outputs": [],
      "source": [
        "piqa_atomic_half_2.to_csv(\"/content/gdrive/MyDrive/PIQA-ATOMIC_half_2.tsv\", sep=\"\\t\", index=False, header=False)\n",
        "atomic_train.to_csv(\"/content/gdrive/MyDrive/train_counted_2.tsv\", sep=\"\\t\", index=False, header=False)"
      ]
    },
    {
      "cell_type": "markdown",
      "metadata": {
        "id": "yr8r5ALCNKKr"
      },
      "source": [
        "# 3. Output"
      ]
    },
    {
      "cell_type": "code",
      "execution_count": null,
      "metadata": {
        "colab": {
          "base_uri": "https://localhost:8080/",
          "height": 641
        },
        "id": "kHE_OPmrRYIH",
        "outputId": "df57cb26-270f-429c-dc7e-31f944d21a99"
      },
      "outputs": [],
      "source": [
        "colnames = ['verb',\t'PIQA_Idx',\t'ATOMIC_Idx',\t'head',\t'relation',\t'tail']\n",
        "piqa_atomic_half_1 = pd.read_csv('/content/gdrive/MyDrive/PIQA-ATOMIC_half_1.tsv', sep='\\t', names=colnames, header=None)\n",
        "display(piqa_atomic_half_1)"
      ]
    },
    {
      "cell_type": "code",
      "execution_count": null,
      "metadata": {
        "colab": {
          "base_uri": "https://localhost:8080/",
          "height": 641
        },
        "id": "REXhhacD309X",
        "outputId": "ae98d9e6-97d2-402b-b86a-779bda8bc6f5"
      },
      "outputs": [],
      "source": [
        "colnames = ['verb',\t'PIQA_Idx',\t'ATOMIC_Idx',\t'head',\t'relation',\t'tail']\n",
        "piqa_atomic_half_2 = pd.read_csv('/content/gdrive/MyDrive/PIQA-ATOMIC_half_2.tsv', sep='\\t', names=colnames, header=None)\n",
        "display(piqa_atomic_half_2)"
      ]
    },
    {
      "cell_type": "code",
      "execution_count": null,
      "metadata": {
        "colab": {
          "base_uri": "https://localhost:8080/",
          "height": 641
        },
        "id": "dAH5aCZIRfxB",
        "outputId": "518691da-2593-4aab-b5af-55ce9520facb"
      },
      "outputs": [],
      "source": [
        "colnames = ['head','relation','tail','verbs_head','verbs_tail','match']\n",
        "atomic_train_counted_1 = pd.read_csv('/content/gdrive/MyDrive/train_counted_1.tsv', sep='\\t', names=colnames, header=None)\n",
        "display(atomic_train_counted_1)"
      ]
    },
    {
      "cell_type": "code",
      "execution_count": null,
      "metadata": {
        "colab": {
          "base_uri": "https://localhost:8080/",
          "height": 641
        },
        "id": "TAZEgflbNuXN",
        "outputId": "e402e730-706d-4fe2-a697-812af752f62c"
      },
      "outputs": [],
      "source": [
        "colnames = ['head','relation','tail','verbs_head','verbs_tail','match']\n",
        "atomic_train_counted_2 = pd.read_csv('/content/gdrive/MyDrive/train_counted_2.tsv', sep='\\t', names=colnames, header=None)\n",
        "display(atomic_train_counted_2)"
      ]
    },
    {
      "cell_type": "code",
      "execution_count": null,
      "metadata": {
        "colab": {
          "base_uri": "https://localhost:8080/",
          "height": 641
        },
        "id": "dn8NYewrPTHQ",
        "outputId": "fd8e06f5-6e92-46ed-a515-759d0560b46e"
      },
      "outputs": [],
      "source": [
        "atomic_train_counted=atomic_train_counted_1\n",
        "display(atomic_train_counted)"
      ]
    },
    {
      "cell_type": "code",
      "execution_count": null,
      "metadata": {
        "colab": {
          "base_uri": "https://localhost:8080/"
        },
        "id": "CJDF8wK_tr6C",
        "outputId": "be8beb01-085a-4820-bcad-a43c203f7db1"
      },
      "outputs": [],
      "source": [
        "length=len(atomic_train_counted)\n",
        "length"
      ]
    },
    {
      "cell_type": "code",
      "execution_count": null,
      "metadata": {
        "colab": {
          "base_uri": "https://localhost:8080/",
          "height": 673,
          "referenced_widgets": [
            "3469a7d72fb44419a14351d70bda2b00",
            "11c1def3e6fb4d65ae151cc59dc0b139",
            "22015c0c52f940f289b7b9f37b43449e",
            "41537cb93f8f4a44b7d02773fa34b409",
            "eaf4bc66e57340efbda4b217c17ca7cc",
            "9d73f69b9ab64ea7bcd246f86357a172",
            "19958c51401e468797507bb6e854df0c",
            "2cd639b144bd4c6b83ad480a6b36b2f6",
            "461a6912fad54696bc810899b97c323a",
            "e5016178ae0d4cf984927a9b3783b053",
            "62d762b9750a479da61f14cc7ead9a7f"
          ]
        },
        "id": "uhWmTY7Osyor",
        "outputId": "0bff9454-d0ef-4a4a-aaef-21aaeff1d8db"
      },
      "outputs": [],
      "source": [
        "for row in notebook.tqdm(atomic_train_counted.itertuples(),total=length):\n",
        "  count1=atomic_train_counted_1['match'][row.Index]\n",
        "  count2=atomic_train_counted_2['match'][row.Index]\n",
        "  num=count1+count2\n",
        "  atomic_train_counted.at[row.Index, 'match']=num\n",
        "display(atomic_train_counted)"
      ]
    },
    {
      "cell_type": "code",
      "execution_count": null,
      "metadata": {
        "colab": {
          "base_uri": "https://localhost:8080/",
          "height": 456,
          "referenced_widgets": [
            "f3ac7b74705841cbb2918b4cbd591661",
            "1c5de8b5f3ef4f76a6ed14e7d0fe0777",
            "2bc8534a68c8429bbb3c39ee91f6ff9a",
            "0aad8eb760cf48c2ad9e6595c639c440",
            "da2d04d669de4279ba65352fb1b7f225",
            "f099be97eb6d4e7aba92ec6ed06d7067",
            "e1882f86d101480ebf85b41b8c9d7c2f",
            "fdc0fd463ca2449d80ac339880f060c0",
            "48f4c547046b47f8bbf2fc16b87d6218",
            "763c7ef206f346e0ad6e4093a4b94e6b",
            "549aff6655d94ed4a219aaf231a87df7"
          ]
        },
        "id": "ALI929Gvu8Nw",
        "outputId": "2f9c6a9f-3443-41ee-81e8-f45d16181a8e"
      },
      "outputs": [],
      "source": [
        "d={}\n",
        "i=0\n",
        "for row in notebook.tqdm(atomic_train_counted.itertuples(),total=length):\n",
        "  num=atomic_train_counted.at[row.Index,\"match\"]\n",
        "  if(num>0):\n",
        "    d[i]={\"head\":row.head,\"relation\":row.relation,\"tail\":row.tail}\n",
        "    i+=1\n",
        "\n",
        "piqa_atomic=pd.DataFrame.from_dict(d,orient='index')\n",
        "display(piqa_atomic)"
      ]
    },
    {
      "cell_type": "code",
      "execution_count": null,
      "metadata": {
        "id": "Vye6IrZpwdyd"
      },
      "outputs": [],
      "source": [
        "piqa_atomic.to_csv(\"/content/gdrive/MyDrive/piqa_atomic.tsv\", sep=\"\\t\", index=False, header=False)"
      ]
    },
    {
      "cell_type": "code",
      "execution_count": null,
      "metadata": {
        "colab": {
          "base_uri": "https://localhost:8080/",
          "height": 1085
        },
        "id": "flBklrN-w2nJ",
        "outputId": "aebe4c65-31f3-4568-abd9-785499d0c927"
      },
      "outputs": [],
      "source": [
        "piqa_atomic_full= pd.concat([piqa_atomic_half_1, piqa_atomic_half_2])\n",
        "display(piqa_atomic_full)"
      ]
    },
    {
      "cell_type": "code",
      "execution_count": null,
      "metadata": {
        "colab": {
          "base_uri": "https://localhost:8080/",
          "height": 641
        },
        "id": "As6d9SW71Cpe",
        "outputId": "cb521a24-3090-43f1-b2a8-2a2a05ebd905"
      },
      "outputs": [],
      "source": [
        "display(piqa_atomic_full)"
      ]
    },
    {
      "cell_type": "code",
      "execution_count": null,
      "metadata": {
        "id": "N7YGFg__xfEh"
      },
      "outputs": [],
      "source": [
        "piqa_atomic_full.to_csv(\"/content/gdrive/MyDrive/piqa_atomic_full.tsv\", sep=\"\\t\", index=False, header=False)"
      ]
    },
    {
      "cell_type": "code",
      "execution_count": null,
      "metadata": {
        "colab": {
          "base_uri": "https://localhost:8080/",
          "height": 641
        },
        "id": "wZIBDgs4xtW6",
        "outputId": "9d037d8e-1caa-4b57-8d78-6d5e2860ce84"
      },
      "outputs": [],
      "source": [
        "colnames = ['verb',\t'PIQA_Idx',\t'ATOMIC_Idx',\t'head',\t'relation',\t'tail']\n",
        "piqa_atomic_full = pd.read_csv('/content/gdrive/MyDrive/piqa_atomic_full.tsv', sep='\\t', names=colnames, header=None)\n",
        "display(piqa_atomic_full)"
      ]
    },
    {
      "cell_type": "code",
      "execution_count": null,
      "metadata": {
        "id": "osGhQLqO5JMu"
      },
      "outputs": [],
      "source": []
    }
  ],
  "metadata": {
    "colab": {
      "collapsed_sections": [
        "b0xIHApR4JXZ"
      ],
      "machine_shape": "hm",
      "provenance": []
    },
    "gpuClass": "standard",
    "kernelspec": {
      "display_name": "Python 3.8.13 64-bit ('commonsense-env')",
      "language": "python",
      "name": "python3"
    },
    "language_info": {
      "name": "python",
      "version": "3.8.13"
    },
    "vscode": {
      "interpreter": {
        "hash": "6f4007100c6443a8e727b9f63f13e080e1241b0bd453ef16fb4b6d271ac8f8bd"
      }
    },
    "widgets": {
      "application/vnd.jupyter.widget-state+json": {
        "078a94e9f8714644815ee84a9ca93336": {
          "model_module": "@jupyter-widgets/controls",
          "model_module_version": "1.5.0",
          "model_name": "HTMLModel",
          "state": {
            "_dom_classes": [],
            "_model_module": "@jupyter-widgets/controls",
            "_model_module_version": "1.5.0",
            "_model_name": "HTMLModel",
            "_view_count": null,
            "_view_module": "@jupyter-widgets/controls",
            "_view_module_version": "1.5.0",
            "_view_name": "HTMLView",
            "description": "",
            "description_tooltip": null,
            "layout": "IPY_MODEL_fcb35fef63cb430786424d6923397bb6",
            "placeholder": "​",
            "style": "IPY_MODEL_ddb74c59750f4b1b92fdf54e4d73904a",
            "value": " 20/32012 [00:26&lt;11:51:42,  1.33s/it]"
          }
        },
        "0aad8eb760cf48c2ad9e6595c639c440": {
          "model_module": "@jupyter-widgets/controls",
          "model_module_version": "1.5.0",
          "model_name": "HTMLModel",
          "state": {
            "_dom_classes": [],
            "_model_module": "@jupyter-widgets/controls",
            "_model_module_version": "1.5.0",
            "_model_name": "HTMLModel",
            "_view_count": null,
            "_view_module": "@jupyter-widgets/controls",
            "_view_module_version": "1.5.0",
            "_view_name": "HTMLView",
            "description": "",
            "description_tooltip": null,
            "layout": "IPY_MODEL_763c7ef206f346e0ad6e4093a4b94e6b",
            "placeholder": "​",
            "style": "IPY_MODEL_549aff6655d94ed4a219aaf231a87df7",
            "value": " 1076880/1076880 [00:14&lt;00:00, 71901.15it/s]"
          }
        },
        "1125fa26ee1942b8a0a4185408eff178": {
          "model_module": "@jupyter-widgets/controls",
          "model_module_version": "1.5.0",
          "model_name": "HTMLModel",
          "state": {
            "_dom_classes": [],
            "_model_module": "@jupyter-widgets/controls",
            "_model_module_version": "1.5.0",
            "_model_name": "HTMLModel",
            "_view_count": null,
            "_view_module": "@jupyter-widgets/controls",
            "_view_module_version": "1.5.0",
            "_view_name": "HTMLView",
            "description": "",
            "description_tooltip": null,
            "layout": "IPY_MODEL_62669ea54758482f9f60cb100191d273",
            "placeholder": "​",
            "style": "IPY_MODEL_875001bd28dc4899abec7eb731b70f07",
            "value": "  0%"
          }
        },
        "11c1def3e6fb4d65ae151cc59dc0b139": {
          "model_module": "@jupyter-widgets/controls",
          "model_module_version": "1.5.0",
          "model_name": "HTMLModel",
          "state": {
            "_dom_classes": [],
            "_model_module": "@jupyter-widgets/controls",
            "_model_module_version": "1.5.0",
            "_model_name": "HTMLModel",
            "_view_count": null,
            "_view_module": "@jupyter-widgets/controls",
            "_view_module_version": "1.5.0",
            "_view_name": "HTMLView",
            "description": "",
            "description_tooltip": null,
            "layout": "IPY_MODEL_9d73f69b9ab64ea7bcd246f86357a172",
            "placeholder": "​",
            "style": "IPY_MODEL_19958c51401e468797507bb6e854df0c",
            "value": "100%"
          }
        },
        "19958c51401e468797507bb6e854df0c": {
          "model_module": "@jupyter-widgets/controls",
          "model_module_version": "1.5.0",
          "model_name": "DescriptionStyleModel",
          "state": {
            "_model_module": "@jupyter-widgets/controls",
            "_model_module_version": "1.5.0",
            "_model_name": "DescriptionStyleModel",
            "_view_count": null,
            "_view_module": "@jupyter-widgets/base",
            "_view_module_version": "1.2.0",
            "_view_name": "StyleView",
            "description_width": ""
          }
        },
        "1c5de8b5f3ef4f76a6ed14e7d0fe0777": {
          "model_module": "@jupyter-widgets/controls",
          "model_module_version": "1.5.0",
          "model_name": "HTMLModel",
          "state": {
            "_dom_classes": [],
            "_model_module": "@jupyter-widgets/controls",
            "_model_module_version": "1.5.0",
            "_model_name": "HTMLModel",
            "_view_count": null,
            "_view_module": "@jupyter-widgets/controls",
            "_view_module_version": "1.5.0",
            "_view_name": "HTMLView",
            "description": "",
            "description_tooltip": null,
            "layout": "IPY_MODEL_f099be97eb6d4e7aba92ec6ed06d7067",
            "placeholder": "​",
            "style": "IPY_MODEL_e1882f86d101480ebf85b41b8c9d7c2f",
            "value": "100%"
          }
        },
        "22015c0c52f940f289b7b9f37b43449e": {
          "model_module": "@jupyter-widgets/controls",
          "model_module_version": "1.5.0",
          "model_name": "FloatProgressModel",
          "state": {
            "_dom_classes": [],
            "_model_module": "@jupyter-widgets/controls",
            "_model_module_version": "1.5.0",
            "_model_name": "FloatProgressModel",
            "_view_count": null,
            "_view_module": "@jupyter-widgets/controls",
            "_view_module_version": "1.5.0",
            "_view_name": "ProgressView",
            "bar_style": "success",
            "description": "",
            "description_tooltip": null,
            "layout": "IPY_MODEL_2cd639b144bd4c6b83ad480a6b36b2f6",
            "max": 1076880,
            "min": 0,
            "orientation": "horizontal",
            "style": "IPY_MODEL_461a6912fad54696bc810899b97c323a",
            "value": 1076880
          }
        },
        "2bc8534a68c8429bbb3c39ee91f6ff9a": {
          "model_module": "@jupyter-widgets/controls",
          "model_module_version": "1.5.0",
          "model_name": "FloatProgressModel",
          "state": {
            "_dom_classes": [],
            "_model_module": "@jupyter-widgets/controls",
            "_model_module_version": "1.5.0",
            "_model_name": "FloatProgressModel",
            "_view_count": null,
            "_view_module": "@jupyter-widgets/controls",
            "_view_module_version": "1.5.0",
            "_view_name": "ProgressView",
            "bar_style": "success",
            "description": "",
            "description_tooltip": null,
            "layout": "IPY_MODEL_fdc0fd463ca2449d80ac339880f060c0",
            "max": 1076880,
            "min": 0,
            "orientation": "horizontal",
            "style": "IPY_MODEL_48f4c547046b47f8bbf2fc16b87d6218",
            "value": 1076880
          }
        },
        "2cd639b144bd4c6b83ad480a6b36b2f6": {
          "model_module": "@jupyter-widgets/base",
          "model_module_version": "1.2.0",
          "model_name": "LayoutModel",
          "state": {
            "_model_module": "@jupyter-widgets/base",
            "_model_module_version": "1.2.0",
            "_model_name": "LayoutModel",
            "_view_count": null,
            "_view_module": "@jupyter-widgets/base",
            "_view_module_version": "1.2.0",
            "_view_name": "LayoutView",
            "align_content": null,
            "align_items": null,
            "align_self": null,
            "border": null,
            "bottom": null,
            "display": null,
            "flex": null,
            "flex_flow": null,
            "grid_area": null,
            "grid_auto_columns": null,
            "grid_auto_flow": null,
            "grid_auto_rows": null,
            "grid_column": null,
            "grid_gap": null,
            "grid_row": null,
            "grid_template_areas": null,
            "grid_template_columns": null,
            "grid_template_rows": null,
            "height": null,
            "justify_content": null,
            "justify_items": null,
            "left": null,
            "margin": null,
            "max_height": null,
            "max_width": null,
            "min_height": null,
            "min_width": null,
            "object_fit": null,
            "object_position": null,
            "order": null,
            "overflow": null,
            "overflow_x": null,
            "overflow_y": null,
            "padding": null,
            "right": null,
            "top": null,
            "visibility": null,
            "width": null
          }
        },
        "2e6edc4476a3482fa12f14d008570018": {
          "model_module": "@jupyter-widgets/base",
          "model_module_version": "1.2.0",
          "model_name": "LayoutModel",
          "state": {
            "_model_module": "@jupyter-widgets/base",
            "_model_module_version": "1.2.0",
            "_model_name": "LayoutModel",
            "_view_count": null,
            "_view_module": "@jupyter-widgets/base",
            "_view_module_version": "1.2.0",
            "_view_name": "LayoutView",
            "align_content": null,
            "align_items": null,
            "align_self": null,
            "border": null,
            "bottom": null,
            "display": null,
            "flex": null,
            "flex_flow": null,
            "grid_area": null,
            "grid_auto_columns": null,
            "grid_auto_flow": null,
            "grid_auto_rows": null,
            "grid_column": null,
            "grid_gap": null,
            "grid_row": null,
            "grid_template_areas": null,
            "grid_template_columns": null,
            "grid_template_rows": null,
            "height": null,
            "justify_content": null,
            "justify_items": null,
            "left": null,
            "margin": null,
            "max_height": null,
            "max_width": null,
            "min_height": null,
            "min_width": null,
            "object_fit": null,
            "object_position": null,
            "order": null,
            "overflow": null,
            "overflow_x": null,
            "overflow_y": null,
            "padding": null,
            "right": null,
            "top": null,
            "visibility": null,
            "width": null
          }
        },
        "3469a7d72fb44419a14351d70bda2b00": {
          "model_module": "@jupyter-widgets/controls",
          "model_module_version": "1.5.0",
          "model_name": "HBoxModel",
          "state": {
            "_dom_classes": [],
            "_model_module": "@jupyter-widgets/controls",
            "_model_module_version": "1.5.0",
            "_model_name": "HBoxModel",
            "_view_count": null,
            "_view_module": "@jupyter-widgets/controls",
            "_view_module_version": "1.5.0",
            "_view_name": "HBoxView",
            "box_style": "",
            "children": [
              "IPY_MODEL_11c1def3e6fb4d65ae151cc59dc0b139",
              "IPY_MODEL_22015c0c52f940f289b7b9f37b43449e",
              "IPY_MODEL_41537cb93f8f4a44b7d02773fa34b409"
            ],
            "layout": "IPY_MODEL_eaf4bc66e57340efbda4b217c17ca7cc"
          }
        },
        "3caa4d3d5e0645ec9a62b9132b79ce9a": {
          "model_module": "@jupyter-widgets/base",
          "model_module_version": "1.2.0",
          "model_name": "LayoutModel",
          "state": {
            "_model_module": "@jupyter-widgets/base",
            "_model_module_version": "1.2.0",
            "_model_name": "LayoutModel",
            "_view_count": null,
            "_view_module": "@jupyter-widgets/base",
            "_view_module_version": "1.2.0",
            "_view_name": "LayoutView",
            "align_content": null,
            "align_items": null,
            "align_self": null,
            "border": null,
            "bottom": null,
            "display": null,
            "flex": null,
            "flex_flow": null,
            "grid_area": null,
            "grid_auto_columns": null,
            "grid_auto_flow": null,
            "grid_auto_rows": null,
            "grid_column": null,
            "grid_gap": null,
            "grid_row": null,
            "grid_template_areas": null,
            "grid_template_columns": null,
            "grid_template_rows": null,
            "height": null,
            "justify_content": null,
            "justify_items": null,
            "left": null,
            "margin": null,
            "max_height": null,
            "max_width": null,
            "min_height": null,
            "min_width": null,
            "object_fit": null,
            "object_position": null,
            "order": null,
            "overflow": null,
            "overflow_x": null,
            "overflow_y": null,
            "padding": null,
            "right": null,
            "top": null,
            "visibility": null,
            "width": null
          }
        },
        "41537cb93f8f4a44b7d02773fa34b409": {
          "model_module": "@jupyter-widgets/controls",
          "model_module_version": "1.5.0",
          "model_name": "HTMLModel",
          "state": {
            "_dom_classes": [],
            "_model_module": "@jupyter-widgets/controls",
            "_model_module_version": "1.5.0",
            "_model_name": "HTMLModel",
            "_view_count": null,
            "_view_module": "@jupyter-widgets/controls",
            "_view_module_version": "1.5.0",
            "_view_name": "HTMLView",
            "description": "",
            "description_tooltip": null,
            "layout": "IPY_MODEL_e5016178ae0d4cf984927a9b3783b053",
            "placeholder": "​",
            "style": "IPY_MODEL_62d762b9750a479da61f14cc7ead9a7f",
            "value": " 1076880/1076880 [00:34&lt;00:00, 30792.79it/s]"
          }
        },
        "461a6912fad54696bc810899b97c323a": {
          "model_module": "@jupyter-widgets/controls",
          "model_module_version": "1.5.0",
          "model_name": "ProgressStyleModel",
          "state": {
            "_model_module": "@jupyter-widgets/controls",
            "_model_module_version": "1.5.0",
            "_model_name": "ProgressStyleModel",
            "_view_count": null,
            "_view_module": "@jupyter-widgets/base",
            "_view_module_version": "1.2.0",
            "_view_name": "StyleView",
            "bar_color": null,
            "description_width": ""
          }
        },
        "48f4c547046b47f8bbf2fc16b87d6218": {
          "model_module": "@jupyter-widgets/controls",
          "model_module_version": "1.5.0",
          "model_name": "ProgressStyleModel",
          "state": {
            "_model_module": "@jupyter-widgets/controls",
            "_model_module_version": "1.5.0",
            "_model_name": "ProgressStyleModel",
            "_view_count": null,
            "_view_module": "@jupyter-widgets/base",
            "_view_module_version": "1.2.0",
            "_view_name": "StyleView",
            "bar_color": null,
            "description_width": ""
          }
        },
        "4b60c78ea08b452b8b50d98928a73f66": {
          "model_module": "@jupyter-widgets/base",
          "model_module_version": "1.2.0",
          "model_name": "LayoutModel",
          "state": {
            "_model_module": "@jupyter-widgets/base",
            "_model_module_version": "1.2.0",
            "_model_name": "LayoutModel",
            "_view_count": null,
            "_view_module": "@jupyter-widgets/base",
            "_view_module_version": "1.2.0",
            "_view_name": "LayoutView",
            "align_content": null,
            "align_items": null,
            "align_self": null,
            "border": null,
            "bottom": null,
            "display": null,
            "flex": null,
            "flex_flow": null,
            "grid_area": null,
            "grid_auto_columns": null,
            "grid_auto_flow": null,
            "grid_auto_rows": null,
            "grid_column": null,
            "grid_gap": null,
            "grid_row": null,
            "grid_template_areas": null,
            "grid_template_columns": null,
            "grid_template_rows": null,
            "height": null,
            "justify_content": null,
            "justify_items": null,
            "left": null,
            "margin": null,
            "max_height": null,
            "max_width": null,
            "min_height": null,
            "min_width": null,
            "object_fit": null,
            "object_position": null,
            "order": null,
            "overflow": null,
            "overflow_x": null,
            "overflow_y": null,
            "padding": null,
            "right": null,
            "top": null,
            "visibility": null,
            "width": null
          }
        },
        "549aff6655d94ed4a219aaf231a87df7": {
          "model_module": "@jupyter-widgets/controls",
          "model_module_version": "1.5.0",
          "model_name": "DescriptionStyleModel",
          "state": {
            "_model_module": "@jupyter-widgets/controls",
            "_model_module_version": "1.5.0",
            "_model_name": "DescriptionStyleModel",
            "_view_count": null,
            "_view_module": "@jupyter-widgets/base",
            "_view_module_version": "1.2.0",
            "_view_name": "StyleView",
            "description_width": ""
          }
        },
        "62669ea54758482f9f60cb100191d273": {
          "model_module": "@jupyter-widgets/base",
          "model_module_version": "1.2.0",
          "model_name": "LayoutModel",
          "state": {
            "_model_module": "@jupyter-widgets/base",
            "_model_module_version": "1.2.0",
            "_model_name": "LayoutModel",
            "_view_count": null,
            "_view_module": "@jupyter-widgets/base",
            "_view_module_version": "1.2.0",
            "_view_name": "LayoutView",
            "align_content": null,
            "align_items": null,
            "align_self": null,
            "border": null,
            "bottom": null,
            "display": null,
            "flex": null,
            "flex_flow": null,
            "grid_area": null,
            "grid_auto_columns": null,
            "grid_auto_flow": null,
            "grid_auto_rows": null,
            "grid_column": null,
            "grid_gap": null,
            "grid_row": null,
            "grid_template_areas": null,
            "grid_template_columns": null,
            "grid_template_rows": null,
            "height": null,
            "justify_content": null,
            "justify_items": null,
            "left": null,
            "margin": null,
            "max_height": null,
            "max_width": null,
            "min_height": null,
            "min_width": null,
            "object_fit": null,
            "object_position": null,
            "order": null,
            "overflow": null,
            "overflow_x": null,
            "overflow_y": null,
            "padding": null,
            "right": null,
            "top": null,
            "visibility": null,
            "width": null
          }
        },
        "62d762b9750a479da61f14cc7ead9a7f": {
          "model_module": "@jupyter-widgets/controls",
          "model_module_version": "1.5.0",
          "model_name": "DescriptionStyleModel",
          "state": {
            "_model_module": "@jupyter-widgets/controls",
            "_model_module_version": "1.5.0",
            "_model_name": "DescriptionStyleModel",
            "_view_count": null,
            "_view_module": "@jupyter-widgets/base",
            "_view_module_version": "1.2.0",
            "_view_name": "StyleView",
            "description_width": ""
          }
        },
        "63832e2055174d9e91be8620c9035c2c": {
          "model_module": "@jupyter-widgets/controls",
          "model_module_version": "1.5.0",
          "model_name": "HTMLModel",
          "state": {
            "_dom_classes": [],
            "_model_module": "@jupyter-widgets/controls",
            "_model_module_version": "1.5.0",
            "_model_name": "HTMLModel",
            "_view_count": null,
            "_view_module": "@jupyter-widgets/controls",
            "_view_module_version": "1.5.0",
            "_view_name": "HTMLView",
            "description": "",
            "description_tooltip": null,
            "layout": "IPY_MODEL_4b60c78ea08b452b8b50d98928a73f66",
            "placeholder": "​",
            "style": "IPY_MODEL_ab24d385f482479da2cd9f851e143398",
            "value": " 11/30000 [00:14&lt;11:13:57,  1.35s/it]"
          }
        },
        "640bf79bff484269acce2a5bd30a068c": {
          "model_module": "@jupyter-widgets/controls",
          "model_module_version": "1.5.0",
          "model_name": "FloatProgressModel",
          "state": {
            "_dom_classes": [],
            "_model_module": "@jupyter-widgets/controls",
            "_model_module_version": "1.5.0",
            "_model_name": "FloatProgressModel",
            "_view_count": null,
            "_view_module": "@jupyter-widgets/controls",
            "_view_module_version": "1.5.0",
            "_view_name": "ProgressView",
            "bar_style": "",
            "description": "",
            "description_tooltip": null,
            "layout": "IPY_MODEL_d53fa2cd5c73443bbe38bd9b214e6ebc",
            "max": 32012,
            "min": 0,
            "orientation": "horizontal",
            "style": "IPY_MODEL_6cf932564bb94442bb7e5e9ed2e8625a",
            "value": 20
          }
        },
        "6cf932564bb94442bb7e5e9ed2e8625a": {
          "model_module": "@jupyter-widgets/controls",
          "model_module_version": "1.5.0",
          "model_name": "ProgressStyleModel",
          "state": {
            "_model_module": "@jupyter-widgets/controls",
            "_model_module_version": "1.5.0",
            "_model_name": "ProgressStyleModel",
            "_view_count": null,
            "_view_module": "@jupyter-widgets/base",
            "_view_module_version": "1.2.0",
            "_view_name": "StyleView",
            "bar_color": null,
            "description_width": ""
          }
        },
        "721fd8aeb52b40f29c1bc204e589e177": {
          "model_module": "@jupyter-widgets/controls",
          "model_module_version": "1.5.0",
          "model_name": "HTMLModel",
          "state": {
            "_dom_classes": [],
            "_model_module": "@jupyter-widgets/controls",
            "_model_module_version": "1.5.0",
            "_model_name": "HTMLModel",
            "_view_count": null,
            "_view_module": "@jupyter-widgets/controls",
            "_view_module_version": "1.5.0",
            "_view_name": "HTMLView",
            "description": "",
            "description_tooltip": null,
            "layout": "IPY_MODEL_7d5bc68a6c8e4219843282250c685bc5",
            "placeholder": "​",
            "style": "IPY_MODEL_73f9594b0d8444619b6a5f09820b7f97",
            "value": "  0%"
          }
        },
        "73f9594b0d8444619b6a5f09820b7f97": {
          "model_module": "@jupyter-widgets/controls",
          "model_module_version": "1.5.0",
          "model_name": "DescriptionStyleModel",
          "state": {
            "_model_module": "@jupyter-widgets/controls",
            "_model_module_version": "1.5.0",
            "_model_name": "DescriptionStyleModel",
            "_view_count": null,
            "_view_module": "@jupyter-widgets/base",
            "_view_module_version": "1.2.0",
            "_view_name": "StyleView",
            "description_width": ""
          }
        },
        "763c7ef206f346e0ad6e4093a4b94e6b": {
          "model_module": "@jupyter-widgets/base",
          "model_module_version": "1.2.0",
          "model_name": "LayoutModel",
          "state": {
            "_model_module": "@jupyter-widgets/base",
            "_model_module_version": "1.2.0",
            "_model_name": "LayoutModel",
            "_view_count": null,
            "_view_module": "@jupyter-widgets/base",
            "_view_module_version": "1.2.0",
            "_view_name": "LayoutView",
            "align_content": null,
            "align_items": null,
            "align_self": null,
            "border": null,
            "bottom": null,
            "display": null,
            "flex": null,
            "flex_flow": null,
            "grid_area": null,
            "grid_auto_columns": null,
            "grid_auto_flow": null,
            "grid_auto_rows": null,
            "grid_column": null,
            "grid_gap": null,
            "grid_row": null,
            "grid_template_areas": null,
            "grid_template_columns": null,
            "grid_template_rows": null,
            "height": null,
            "justify_content": null,
            "justify_items": null,
            "left": null,
            "margin": null,
            "max_height": null,
            "max_width": null,
            "min_height": null,
            "min_width": null,
            "object_fit": null,
            "object_position": null,
            "order": null,
            "overflow": null,
            "overflow_x": null,
            "overflow_y": null,
            "padding": null,
            "right": null,
            "top": null,
            "visibility": null,
            "width": null
          }
        },
        "7d5bc68a6c8e4219843282250c685bc5": {
          "model_module": "@jupyter-widgets/base",
          "model_module_version": "1.2.0",
          "model_name": "LayoutModel",
          "state": {
            "_model_module": "@jupyter-widgets/base",
            "_model_module_version": "1.2.0",
            "_model_name": "LayoutModel",
            "_view_count": null,
            "_view_module": "@jupyter-widgets/base",
            "_view_module_version": "1.2.0",
            "_view_name": "LayoutView",
            "align_content": null,
            "align_items": null,
            "align_self": null,
            "border": null,
            "bottom": null,
            "display": null,
            "flex": null,
            "flex_flow": null,
            "grid_area": null,
            "grid_auto_columns": null,
            "grid_auto_flow": null,
            "grid_auto_rows": null,
            "grid_column": null,
            "grid_gap": null,
            "grid_row": null,
            "grid_template_areas": null,
            "grid_template_columns": null,
            "grid_template_rows": null,
            "height": null,
            "justify_content": null,
            "justify_items": null,
            "left": null,
            "margin": null,
            "max_height": null,
            "max_width": null,
            "min_height": null,
            "min_width": null,
            "object_fit": null,
            "object_position": null,
            "order": null,
            "overflow": null,
            "overflow_x": null,
            "overflow_y": null,
            "padding": null,
            "right": null,
            "top": null,
            "visibility": null,
            "width": null
          }
        },
        "875001bd28dc4899abec7eb731b70f07": {
          "model_module": "@jupyter-widgets/controls",
          "model_module_version": "1.5.0",
          "model_name": "DescriptionStyleModel",
          "state": {
            "_model_module": "@jupyter-widgets/controls",
            "_model_module_version": "1.5.0",
            "_model_name": "DescriptionStyleModel",
            "_view_count": null,
            "_view_module": "@jupyter-widgets/base",
            "_view_module_version": "1.2.0",
            "_view_name": "StyleView",
            "description_width": ""
          }
        },
        "9d73f69b9ab64ea7bcd246f86357a172": {
          "model_module": "@jupyter-widgets/base",
          "model_module_version": "1.2.0",
          "model_name": "LayoutModel",
          "state": {
            "_model_module": "@jupyter-widgets/base",
            "_model_module_version": "1.2.0",
            "_model_name": "LayoutModel",
            "_view_count": null,
            "_view_module": "@jupyter-widgets/base",
            "_view_module_version": "1.2.0",
            "_view_name": "LayoutView",
            "align_content": null,
            "align_items": null,
            "align_self": null,
            "border": null,
            "bottom": null,
            "display": null,
            "flex": null,
            "flex_flow": null,
            "grid_area": null,
            "grid_auto_columns": null,
            "grid_auto_flow": null,
            "grid_auto_rows": null,
            "grid_column": null,
            "grid_gap": null,
            "grid_row": null,
            "grid_template_areas": null,
            "grid_template_columns": null,
            "grid_template_rows": null,
            "height": null,
            "justify_content": null,
            "justify_items": null,
            "left": null,
            "margin": null,
            "max_height": null,
            "max_width": null,
            "min_height": null,
            "min_width": null,
            "object_fit": null,
            "object_position": null,
            "order": null,
            "overflow": null,
            "overflow_x": null,
            "overflow_y": null,
            "padding": null,
            "right": null,
            "top": null,
            "visibility": null,
            "width": null
          }
        },
        "a7b73c530d794ebca987cd4b702b5148": {
          "model_module": "@jupyter-widgets/base",
          "model_module_version": "1.2.0",
          "model_name": "LayoutModel",
          "state": {
            "_model_module": "@jupyter-widgets/base",
            "_model_module_version": "1.2.0",
            "_model_name": "LayoutModel",
            "_view_count": null,
            "_view_module": "@jupyter-widgets/base",
            "_view_module_version": "1.2.0",
            "_view_name": "LayoutView",
            "align_content": null,
            "align_items": null,
            "align_self": null,
            "border": null,
            "bottom": null,
            "display": null,
            "flex": null,
            "flex_flow": null,
            "grid_area": null,
            "grid_auto_columns": null,
            "grid_auto_flow": null,
            "grid_auto_rows": null,
            "grid_column": null,
            "grid_gap": null,
            "grid_row": null,
            "grid_template_areas": null,
            "grid_template_columns": null,
            "grid_template_rows": null,
            "height": null,
            "justify_content": null,
            "justify_items": null,
            "left": null,
            "margin": null,
            "max_height": null,
            "max_width": null,
            "min_height": null,
            "min_width": null,
            "object_fit": null,
            "object_position": null,
            "order": null,
            "overflow": null,
            "overflow_x": null,
            "overflow_y": null,
            "padding": null,
            "right": null,
            "top": null,
            "visibility": null,
            "width": null
          }
        },
        "ab24d385f482479da2cd9f851e143398": {
          "model_module": "@jupyter-widgets/controls",
          "model_module_version": "1.5.0",
          "model_name": "DescriptionStyleModel",
          "state": {
            "_model_module": "@jupyter-widgets/controls",
            "_model_module_version": "1.5.0",
            "_model_name": "DescriptionStyleModel",
            "_view_count": null,
            "_view_module": "@jupyter-widgets/base",
            "_view_module_version": "1.2.0",
            "_view_name": "StyleView",
            "description_width": ""
          }
        },
        "beeb59ef0de540a1b6948f47c8fe0955": {
          "model_module": "@jupyter-widgets/controls",
          "model_module_version": "1.5.0",
          "model_name": "FloatProgressModel",
          "state": {
            "_dom_classes": [],
            "_model_module": "@jupyter-widgets/controls",
            "_model_module_version": "1.5.0",
            "_model_name": "FloatProgressModel",
            "_view_count": null,
            "_view_module": "@jupyter-widgets/controls",
            "_view_module_version": "1.5.0",
            "_view_name": "ProgressView",
            "bar_style": "danger",
            "description": "",
            "description_tooltip": null,
            "layout": "IPY_MODEL_2e6edc4476a3482fa12f14d008570018",
            "max": 30000,
            "min": 0,
            "orientation": "horizontal",
            "style": "IPY_MODEL_daf80079600e41ff997ccae8b8f1e478",
            "value": 11
          }
        },
        "c1ce4a030854413a955a3e2c7665bb7e": {
          "model_module": "@jupyter-widgets/controls",
          "model_module_version": "1.5.0",
          "model_name": "HBoxModel",
          "state": {
            "_dom_classes": [],
            "_model_module": "@jupyter-widgets/controls",
            "_model_module_version": "1.5.0",
            "_model_name": "HBoxModel",
            "_view_count": null,
            "_view_module": "@jupyter-widgets/controls",
            "_view_module_version": "1.5.0",
            "_view_name": "HBoxView",
            "box_style": "",
            "children": [
              "IPY_MODEL_721fd8aeb52b40f29c1bc204e589e177",
              "IPY_MODEL_beeb59ef0de540a1b6948f47c8fe0955",
              "IPY_MODEL_63832e2055174d9e91be8620c9035c2c"
            ],
            "layout": "IPY_MODEL_3caa4d3d5e0645ec9a62b9132b79ce9a"
          }
        },
        "c996c4d1813046f8946b11748895ba68": {
          "model_module": "@jupyter-widgets/controls",
          "model_module_version": "1.5.0",
          "model_name": "HBoxModel",
          "state": {
            "_dom_classes": [],
            "_model_module": "@jupyter-widgets/controls",
            "_model_module_version": "1.5.0",
            "_model_name": "HBoxModel",
            "_view_count": null,
            "_view_module": "@jupyter-widgets/controls",
            "_view_module_version": "1.5.0",
            "_view_name": "HBoxView",
            "box_style": "",
            "children": [
              "IPY_MODEL_1125fa26ee1942b8a0a4185408eff178",
              "IPY_MODEL_640bf79bff484269acce2a5bd30a068c",
              "IPY_MODEL_078a94e9f8714644815ee84a9ca93336"
            ],
            "layout": "IPY_MODEL_a7b73c530d794ebca987cd4b702b5148"
          }
        },
        "d53fa2cd5c73443bbe38bd9b214e6ebc": {
          "model_module": "@jupyter-widgets/base",
          "model_module_version": "1.2.0",
          "model_name": "LayoutModel",
          "state": {
            "_model_module": "@jupyter-widgets/base",
            "_model_module_version": "1.2.0",
            "_model_name": "LayoutModel",
            "_view_count": null,
            "_view_module": "@jupyter-widgets/base",
            "_view_module_version": "1.2.0",
            "_view_name": "LayoutView",
            "align_content": null,
            "align_items": null,
            "align_self": null,
            "border": null,
            "bottom": null,
            "display": null,
            "flex": null,
            "flex_flow": null,
            "grid_area": null,
            "grid_auto_columns": null,
            "grid_auto_flow": null,
            "grid_auto_rows": null,
            "grid_column": null,
            "grid_gap": null,
            "grid_row": null,
            "grid_template_areas": null,
            "grid_template_columns": null,
            "grid_template_rows": null,
            "height": null,
            "justify_content": null,
            "justify_items": null,
            "left": null,
            "margin": null,
            "max_height": null,
            "max_width": null,
            "min_height": null,
            "min_width": null,
            "object_fit": null,
            "object_position": null,
            "order": null,
            "overflow": null,
            "overflow_x": null,
            "overflow_y": null,
            "padding": null,
            "right": null,
            "top": null,
            "visibility": null,
            "width": null
          }
        },
        "da2d04d669de4279ba65352fb1b7f225": {
          "model_module": "@jupyter-widgets/base",
          "model_module_version": "1.2.0",
          "model_name": "LayoutModel",
          "state": {
            "_model_module": "@jupyter-widgets/base",
            "_model_module_version": "1.2.0",
            "_model_name": "LayoutModel",
            "_view_count": null,
            "_view_module": "@jupyter-widgets/base",
            "_view_module_version": "1.2.0",
            "_view_name": "LayoutView",
            "align_content": null,
            "align_items": null,
            "align_self": null,
            "border": null,
            "bottom": null,
            "display": null,
            "flex": null,
            "flex_flow": null,
            "grid_area": null,
            "grid_auto_columns": null,
            "grid_auto_flow": null,
            "grid_auto_rows": null,
            "grid_column": null,
            "grid_gap": null,
            "grid_row": null,
            "grid_template_areas": null,
            "grid_template_columns": null,
            "grid_template_rows": null,
            "height": null,
            "justify_content": null,
            "justify_items": null,
            "left": null,
            "margin": null,
            "max_height": null,
            "max_width": null,
            "min_height": null,
            "min_width": null,
            "object_fit": null,
            "object_position": null,
            "order": null,
            "overflow": null,
            "overflow_x": null,
            "overflow_y": null,
            "padding": null,
            "right": null,
            "top": null,
            "visibility": null,
            "width": null
          }
        },
        "daf80079600e41ff997ccae8b8f1e478": {
          "model_module": "@jupyter-widgets/controls",
          "model_module_version": "1.5.0",
          "model_name": "ProgressStyleModel",
          "state": {
            "_model_module": "@jupyter-widgets/controls",
            "_model_module_version": "1.5.0",
            "_model_name": "ProgressStyleModel",
            "_view_count": null,
            "_view_module": "@jupyter-widgets/base",
            "_view_module_version": "1.2.0",
            "_view_name": "StyleView",
            "bar_color": null,
            "description_width": ""
          }
        },
        "ddb74c59750f4b1b92fdf54e4d73904a": {
          "model_module": "@jupyter-widgets/controls",
          "model_module_version": "1.5.0",
          "model_name": "DescriptionStyleModel",
          "state": {
            "_model_module": "@jupyter-widgets/controls",
            "_model_module_version": "1.5.0",
            "_model_name": "DescriptionStyleModel",
            "_view_count": null,
            "_view_module": "@jupyter-widgets/base",
            "_view_module_version": "1.2.0",
            "_view_name": "StyleView",
            "description_width": ""
          }
        },
        "e1882f86d101480ebf85b41b8c9d7c2f": {
          "model_module": "@jupyter-widgets/controls",
          "model_module_version": "1.5.0",
          "model_name": "DescriptionStyleModel",
          "state": {
            "_model_module": "@jupyter-widgets/controls",
            "_model_module_version": "1.5.0",
            "_model_name": "DescriptionStyleModel",
            "_view_count": null,
            "_view_module": "@jupyter-widgets/base",
            "_view_module_version": "1.2.0",
            "_view_name": "StyleView",
            "description_width": ""
          }
        },
        "e5016178ae0d4cf984927a9b3783b053": {
          "model_module": "@jupyter-widgets/base",
          "model_module_version": "1.2.0",
          "model_name": "LayoutModel",
          "state": {
            "_model_module": "@jupyter-widgets/base",
            "_model_module_version": "1.2.0",
            "_model_name": "LayoutModel",
            "_view_count": null,
            "_view_module": "@jupyter-widgets/base",
            "_view_module_version": "1.2.0",
            "_view_name": "LayoutView",
            "align_content": null,
            "align_items": null,
            "align_self": null,
            "border": null,
            "bottom": null,
            "display": null,
            "flex": null,
            "flex_flow": null,
            "grid_area": null,
            "grid_auto_columns": null,
            "grid_auto_flow": null,
            "grid_auto_rows": null,
            "grid_column": null,
            "grid_gap": null,
            "grid_row": null,
            "grid_template_areas": null,
            "grid_template_columns": null,
            "grid_template_rows": null,
            "height": null,
            "justify_content": null,
            "justify_items": null,
            "left": null,
            "margin": null,
            "max_height": null,
            "max_width": null,
            "min_height": null,
            "min_width": null,
            "object_fit": null,
            "object_position": null,
            "order": null,
            "overflow": null,
            "overflow_x": null,
            "overflow_y": null,
            "padding": null,
            "right": null,
            "top": null,
            "visibility": null,
            "width": null
          }
        },
        "eaf4bc66e57340efbda4b217c17ca7cc": {
          "model_module": "@jupyter-widgets/base",
          "model_module_version": "1.2.0",
          "model_name": "LayoutModel",
          "state": {
            "_model_module": "@jupyter-widgets/base",
            "_model_module_version": "1.2.0",
            "_model_name": "LayoutModel",
            "_view_count": null,
            "_view_module": "@jupyter-widgets/base",
            "_view_module_version": "1.2.0",
            "_view_name": "LayoutView",
            "align_content": null,
            "align_items": null,
            "align_self": null,
            "border": null,
            "bottom": null,
            "display": null,
            "flex": null,
            "flex_flow": null,
            "grid_area": null,
            "grid_auto_columns": null,
            "grid_auto_flow": null,
            "grid_auto_rows": null,
            "grid_column": null,
            "grid_gap": null,
            "grid_row": null,
            "grid_template_areas": null,
            "grid_template_columns": null,
            "grid_template_rows": null,
            "height": null,
            "justify_content": null,
            "justify_items": null,
            "left": null,
            "margin": null,
            "max_height": null,
            "max_width": null,
            "min_height": null,
            "min_width": null,
            "object_fit": null,
            "object_position": null,
            "order": null,
            "overflow": null,
            "overflow_x": null,
            "overflow_y": null,
            "padding": null,
            "right": null,
            "top": null,
            "visibility": null,
            "width": null
          }
        },
        "f099be97eb6d4e7aba92ec6ed06d7067": {
          "model_module": "@jupyter-widgets/base",
          "model_module_version": "1.2.0",
          "model_name": "LayoutModel",
          "state": {
            "_model_module": "@jupyter-widgets/base",
            "_model_module_version": "1.2.0",
            "_model_name": "LayoutModel",
            "_view_count": null,
            "_view_module": "@jupyter-widgets/base",
            "_view_module_version": "1.2.0",
            "_view_name": "LayoutView",
            "align_content": null,
            "align_items": null,
            "align_self": null,
            "border": null,
            "bottom": null,
            "display": null,
            "flex": null,
            "flex_flow": null,
            "grid_area": null,
            "grid_auto_columns": null,
            "grid_auto_flow": null,
            "grid_auto_rows": null,
            "grid_column": null,
            "grid_gap": null,
            "grid_row": null,
            "grid_template_areas": null,
            "grid_template_columns": null,
            "grid_template_rows": null,
            "height": null,
            "justify_content": null,
            "justify_items": null,
            "left": null,
            "margin": null,
            "max_height": null,
            "max_width": null,
            "min_height": null,
            "min_width": null,
            "object_fit": null,
            "object_position": null,
            "order": null,
            "overflow": null,
            "overflow_x": null,
            "overflow_y": null,
            "padding": null,
            "right": null,
            "top": null,
            "visibility": null,
            "width": null
          }
        },
        "f3ac7b74705841cbb2918b4cbd591661": {
          "model_module": "@jupyter-widgets/controls",
          "model_module_version": "1.5.0",
          "model_name": "HBoxModel",
          "state": {
            "_dom_classes": [],
            "_model_module": "@jupyter-widgets/controls",
            "_model_module_version": "1.5.0",
            "_model_name": "HBoxModel",
            "_view_count": null,
            "_view_module": "@jupyter-widgets/controls",
            "_view_module_version": "1.5.0",
            "_view_name": "HBoxView",
            "box_style": "",
            "children": [
              "IPY_MODEL_1c5de8b5f3ef4f76a6ed14e7d0fe0777",
              "IPY_MODEL_2bc8534a68c8429bbb3c39ee91f6ff9a",
              "IPY_MODEL_0aad8eb760cf48c2ad9e6595c639c440"
            ],
            "layout": "IPY_MODEL_da2d04d669de4279ba65352fb1b7f225"
          }
        },
        "fcb35fef63cb430786424d6923397bb6": {
          "model_module": "@jupyter-widgets/base",
          "model_module_version": "1.2.0",
          "model_name": "LayoutModel",
          "state": {
            "_model_module": "@jupyter-widgets/base",
            "_model_module_version": "1.2.0",
            "_model_name": "LayoutModel",
            "_view_count": null,
            "_view_module": "@jupyter-widgets/base",
            "_view_module_version": "1.2.0",
            "_view_name": "LayoutView",
            "align_content": null,
            "align_items": null,
            "align_self": null,
            "border": null,
            "bottom": null,
            "display": null,
            "flex": null,
            "flex_flow": null,
            "grid_area": null,
            "grid_auto_columns": null,
            "grid_auto_flow": null,
            "grid_auto_rows": null,
            "grid_column": null,
            "grid_gap": null,
            "grid_row": null,
            "grid_template_areas": null,
            "grid_template_columns": null,
            "grid_template_rows": null,
            "height": null,
            "justify_content": null,
            "justify_items": null,
            "left": null,
            "margin": null,
            "max_height": null,
            "max_width": null,
            "min_height": null,
            "min_width": null,
            "object_fit": null,
            "object_position": null,
            "order": null,
            "overflow": null,
            "overflow_x": null,
            "overflow_y": null,
            "padding": null,
            "right": null,
            "top": null,
            "visibility": null,
            "width": null
          }
        },
        "fdc0fd463ca2449d80ac339880f060c0": {
          "model_module": "@jupyter-widgets/base",
          "model_module_version": "1.2.0",
          "model_name": "LayoutModel",
          "state": {
            "_model_module": "@jupyter-widgets/base",
            "_model_module_version": "1.2.0",
            "_model_name": "LayoutModel",
            "_view_count": null,
            "_view_module": "@jupyter-widgets/base",
            "_view_module_version": "1.2.0",
            "_view_name": "LayoutView",
            "align_content": null,
            "align_items": null,
            "align_self": null,
            "border": null,
            "bottom": null,
            "display": null,
            "flex": null,
            "flex_flow": null,
            "grid_area": null,
            "grid_auto_columns": null,
            "grid_auto_flow": null,
            "grid_auto_rows": null,
            "grid_column": null,
            "grid_gap": null,
            "grid_row": null,
            "grid_template_areas": null,
            "grid_template_columns": null,
            "grid_template_rows": null,
            "height": null,
            "justify_content": null,
            "justify_items": null,
            "left": null,
            "margin": null,
            "max_height": null,
            "max_width": null,
            "min_height": null,
            "min_width": null,
            "object_fit": null,
            "object_position": null,
            "order": null,
            "overflow": null,
            "overflow_x": null,
            "overflow_y": null,
            "padding": null,
            "right": null,
            "top": null,
            "visibility": null,
            "width": null
          }
        }
      }
    }
  },
  "nbformat": 4,
  "nbformat_minor": 0
}
