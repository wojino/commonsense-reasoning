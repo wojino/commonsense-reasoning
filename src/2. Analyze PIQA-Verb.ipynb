{
 "cells": [
  {
   "cell_type": "markdown",
   "metadata": {},
   "source": [
    "# 2. Verify & Analyze PIQA-Verb"
   ]
  },
  {
   "cell_type": "code",
   "execution_count": null,
   "metadata": {},
   "outputs": [],
   "source": [
    "import pandas as pd\n",
    "from tqdm import tqdm"
   ]
  },
  {
   "cell_type": "markdown",
   "metadata": {},
   "source": [
    "## 2.1. Load PIQA-Verb"
   ]
  },
  {
   "cell_type": "code",
   "execution_count": null,
   "metadata": {},
   "outputs": [],
   "source": [
    "piqa_verb = set(line.strip() for line in open('./outputs/PIQA-Verb/PIQA-Verb.txt'))"
   ]
  },
  {
   "cell_type": "markdown",
   "metadata": {},
   "source": [
    "## 2.2 Verify PIQA-Verb"
   ]
  },
  {
   "cell_type": "code",
   "execution_count": null,
   "metadata": {},
   "outputs": [],
   "source": [
    "import requests\n",
    "import json"
   ]
  },
  {
   "cell_type": "code",
   "execution_count": null,
   "metadata": {},
   "outputs": [],
   "source": [
    "def checkVerb(word):\n",
    "    url = \"https://api.dictionaryapi.dev/api/v2/entries/en/\" + word\n",
    "\n",
    "    response = requests.get(url)\n",
    "\n",
    "    if response.status_code == 404:\n",
    "        return False\n",
    "\n",
    "    data = json.loads(response.text)\n",
    "\n",
    "    for i in data[0]['meanings']:\n",
    "        if i['partOfSpeech'] == 'verb':\n",
    "            return True\n",
    "    \n",
    "    return False\n"
   ]
  },
  {
   "cell_type": "code",
   "execution_count": null,
   "metadata": {},
   "outputs": [],
   "source": [
    "notVerb = set()\n",
    "verb = set()\n",
    "\n",
    "for word in tqdm(piqa_verb):\n",
    "    if not checkVerb(word):\n",
    "        notVerb.add(word)\n",
    "\n",
    "    if checkVerb(word):\n",
    "        verb.add(word)\n",
    "\n",
    "print(len(notVerb))\n",
    "print(len(verb))"
   ]
  },
  {
   "cell_type": "markdown",
   "metadata": {},
   "source": [
    "## 2.3 Save PIQA-Verb"
   ]
  },
  {
   "cell_type": "code",
   "execution_count": null,
   "metadata": {},
   "outputs": [],
   "source": [
    "piqa_verb_df = pd.DataFrame(verb)\n",
    "piqa_verb_df.to_csv('./outputs/PIQA-Verb/PIQA-Verb.txt', index=False, header=False)"
   ]
  },
  {
   "cell_type": "code",
   "execution_count": null,
   "metadata": {},
   "outputs": [],
   "source": [
    "notVerb_df = pd.DataFrame(notVerb)\n",
    "notVerb_df.to_csv('./outputs/PIQA-Verb/notVerb.txt', index=False, header=False)"
   ]
  },
  {
   "cell_type": "markdown",
   "metadata": {},
   "source": [
    "## 2.4 Modify PIQA"
   ]
  },
  {
   "cell_type": "code",
   "execution_count": null,
   "metadata": {},
   "outputs": [],
   "source": [
    "piqa_verb = set(line.strip() for line in open('./outputs/PIQA-Verb/PIQA-Verb.txt'))\n",
    "piqa = pd.read_csv('./outputs/PIQA-Verb/PIQA.csv')\n",
    "\n",
    "display(piqa.head())"
   ]
  },
  {
   "cell_type": "code",
   "execution_count": null,
   "metadata": {},
   "outputs": [],
   "source": [
    "# convert string to set\n",
    "# if set is empty, it will be nan\n",
    "\n",
    "# map(lambda y: y[1:-1], x[1:-1].split(', '))\n",
    "# x[1:-1].split(', ')\n",
    "\n",
    "piqa['verbs'] = piqa['verbs'].apply(lambda x: set(map(lambda y: y[1:-1], x[1:-1].split(', '))) if type(x) == str else set())\n",
    "display(piqa.head())"
   ]
  },
  {
   "cell_type": "code",
   "execution_count": null,
   "metadata": {},
   "outputs": [],
   "source": [
    "type(piqa['verbs'][0])\n",
    "print(piqa['verbs'][0])"
   ]
  },
  {
   "cell_type": "code",
   "execution_count": null,
   "metadata": {},
   "outputs": [],
   "source": [
    "# check if the verb is in the piqa_verb\n",
    "piqa['verbs'] = piqa['verbs'].apply(lambda x: (x & piqa_verb))\n",
    "display(piqa.head())"
   ]
  },
  {
   "cell_type": "code",
   "execution_count": null,
   "metadata": {},
   "outputs": [],
   "source": [
    "piqa.to_csv('./outputs/PIQA-Verb/PIQA.csv', index=False)"
   ]
  }
 ],
 "metadata": {
  "kernelspec": {
   "display_name": "Python 3.8.13 64-bit ('commonsense-env')",
   "language": "python",
   "name": "python3"
  },
  "language_info": {
   "codemirror_mode": {
    "name": "ipython",
    "version": 3
   },
   "file_extension": ".py",
   "mimetype": "text/x-python",
   "name": "python",
   "nbconvert_exporter": "python",
   "pygments_lexer": "ipython3",
   "version": "3.8.13"
  },
  "orig_nbformat": 4,
  "vscode": {
   "interpreter": {
    "hash": "6f4007100c6443a8e727b9f63f13e080e1241b0bd453ef16fb4b6d271ac8f8bd"
   }
  }
 },
 "nbformat": 4,
 "nbformat_minor": 2
}
