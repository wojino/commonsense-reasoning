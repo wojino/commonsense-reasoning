{
  "cells": [
    {
      "cell_type": "markdown",
      "metadata": {
        "id": "QcyoYUXG1WPW"
      },
      "source": [
        "#0. Preliminary"
      ]
    },
    {
      "cell_type": "code",
      "execution_count": null,
      "metadata": {
        "colab": {
          "base_uri": "https://localhost:8080/"
        },
        "id": "1jyFGDJJ1L-N",
        "outputId": "52450383-aa19-414d-e5fa-a33c010a057e"
      },
      "outputs": [],
      "source": [
        "from google.colab import drive\n",
        "drive.mount('/content/gdrive')"
      ]
    },
    {
      "cell_type": "code",
      "execution_count": null,
      "metadata": {
        "colab": {
          "base_uri": "https://localhost:8080/"
        },
        "id": "zVUXVE6k1O0D",
        "outputId": "6fd211d4-f2aa-4a90-c246-ef81afe6ebc9"
      },
      "outputs": [],
      "source": [
        "!pip install spacy"
      ]
    },
    {
      "cell_type": "code",
      "execution_count": null,
      "metadata": {
        "colab": {
          "base_uri": "https://localhost:8080/"
        },
        "id": "bHWrP9PY1P2j",
        "outputId": "e81e1982-8fa0-4f4c-9ed2-e0948d9c13f0"
      },
      "outputs": [],
      "source": [
        "!python -m spacy download en_core_web_trf"
      ]
    },
    {
      "cell_type": "markdown",
      "metadata": {
        "id": "6D7E8-M31Y0a"
      },
      "source": [
        "#1. Code"
      ]
    },
    {
      "cell_type": "code",
      "execution_count": null,
      "metadata": {
        "id": "dBRXyLtq1Z65"
      },
      "outputs": [],
      "source": [
        "import pandas as pd\n",
        "import json\n",
        "import spacy\n",
        "from tqdm import notebook, tqdm"
      ]
    },
    {
      "cell_type": "code",
      "execution_count": null,
      "metadata": {
        "id": "jPjEkfhs1jFO"
      },
      "outputs": [],
      "source": [
        "nlp=spacy.load(\"en_core_web_trf\")"
      ]
    },
    {
      "cell_type": "code",
      "execution_count": null,
      "metadata": {
        "colab": {
          "base_uri": "https://localhost:8080/",
          "height": 337
        },
        "id": "pxxcej1b76qb",
        "outputId": "26d97cbd-aee6-4ae7-fe7a-ba61673487ef"
      },
      "outputs": [],
      "source": [
        "tmp = []\n",
        "with open('/content/gdrive/MyDrive/PIQA/train.jsonl') as f:\n",
        "    for obj in f:\n",
        "        tmp.append(json.loads(obj))\n",
        "\n",
        "piqa_pair = pd.DataFrame(tmp)\n",
        "display(piqa_pair.head())"
      ]
    },
    {
      "cell_type": "code",
      "execution_count": null,
      "metadata": {
        "colab": {
          "base_uri": "https://localhost:8080/",
          "height": 206
        },
        "id": "uwmevEn_8Hyx",
        "outputId": "8b8828ce-01a2-41e5-a72d-e9f6dd4e0439"
      },
      "outputs": [],
      "source": [
        "answer = []\n",
        "with open('/content/gdrive/MyDrive/PIQA/train-labels.lst') as f:\n",
        "    answer += f.read().splitlines()\n",
        "\n",
        "piqa_pair['answer'] = answer # If answer is 0, sol1 is correct, else sol2 is correct\n",
        "piqa_pair['sol'] = piqa_pair.apply(lambda x: x['sol1'] if x['answer'] == '0' else x['sol2'], axis=1)\n",
        "piqa_pair.drop(['sol1', 'sol2', 'answer'], axis=1, inplace=True)\n",
        "\n",
        "display(piqa_pair.head())"
      ]
    },
    {
      "cell_type": "code",
      "execution_count": null,
      "metadata": {
        "id": "_uD5O4tH_esj"
      },
      "outputs": [],
      "source": [
        "piqa_pair['qa'] = piqa_pair.apply(lambda x: x['goal'] + ' / ' + x['sol'], axis=1)"
      ]
    },
    {
      "cell_type": "code",
      "execution_count": null,
      "metadata": {
        "colab": {
          "base_uri": "https://localhost:8080/",
          "height": 641
        },
        "id": "iuv2-O50_3Gu",
        "outputId": "dfc3ad5c-ec54-4e25-f6b8-3b58b4e222ce"
      },
      "outputs": [],
      "source": [
        "display(piqa_pair)"
      ]
    },
    {
      "cell_type": "code",
      "execution_count": null,
      "metadata": {
        "id": "smxY3j2C3Pju"
      },
      "outputs": [],
      "source": [
        "with open('/content/gdrive/MyDrive/outputs/PIQA-Verb/all.txt') as f:\n",
        "    piqa_verb = f.read().splitlines()"
      ]
    },
    {
      "cell_type": "markdown",
      "metadata": {
        "id": "uUFIUVsM7H2c"
      },
      "source": [
        "clean tires같이 clean류 문장은 잘 바뀌지 않음.\n",
        "goal에 동사가 없는 경우에는 직접 확인 및 변경"
      ]
    },
    {
      "cell_type": "code",
      "execution_count": null,
      "metadata": {
        "colab": {
          "base_uri": "https://localhost:8080/",
          "height": 760,
          "referenced_widgets": [
            "7685b24370d44b5094ec8a40c58877a9",
            "03521aae95c34572815802229539c5d4",
            "7d6c229ad6084fc3908e8145f7dc249d",
            "4a9ec4bf787e40d7973c4cb54907c992",
            "bc8d59177c57449ea09be62d97cb60cf",
            "2f32317330cd443ab67e96e0d1b3ff5c",
            "ca72cf2db6d04a209996c270fe3b9f7d",
            "0ab60c0ee5104bf3b1b6bc3991a62574",
            "80853f726bca4c638254732b51fce4a0",
            "2412f258f5504276b7602d8030bd4de2",
            "4d688e944a4842bb88b366c0126e805b"
          ]
        },
        "id": "VzQ9SrEK2Q5l",
        "outputId": "c4679efa-9c20-43ca-aa31-ed60c7a80390"
      },
      "outputs": [],
      "source": [
        "piqa_pair['goal_verbs']=None\n",
        "piqa_pair['sol_verbs']=None\n",
        "\n",
        "piqa_pair_length=len(piqa_pair)\n",
        "i=0\n",
        "for row in notebook.tqdm(piqa_pair.itertuples(), total=piqa_pair_length):\n",
        "  col=nlp(row.goal)\n",
        "  col2=nlp(row.sol)\n",
        "  tmp=set()\n",
        "  tmp2=set()\n",
        "  tmp.update([token.lemma_ for token in col if token.pos_ == 'VERB'])\n",
        "  tmp2.update([word for word in tmp if word in piqa_verb])\n",
        "\n",
        "  tmp3=set()\n",
        "  tmp4=set()\n",
        "  tmp3.update([token.lemma_ for token in col2 if token.pos_ == 'VERB'])\n",
        "  tmp4.update([word for word in tmp3 if word in piqa_verb])\n",
        "\n",
        "  piqa_pair.at[row.Index, 'goal_verbs']=tmp2\n",
        "  piqa_pair.at[row.Index, 'sol_verbs']=tmp4\n",
        "  i+=1\n",
        "display(piqa_pair)"
      ]
    },
    {
      "cell_type": "code",
      "execution_count": null,
      "metadata": {
        "id": "tFfI_-IrmKEi"
      },
      "outputs": [],
      "source": [
        "piqa_pair.drop(['goal', 'sol'], axis=1, inplace=True)\n",
        "piqa_pair.rename(columns={'qa':'sen'})"
      ]
    },
    {
      "cell_type": "markdown",
      "metadata": {
        "id": "8oeP4CkvMskW"
      },
      "source": [
        "sauté\n",
        "purée"
      ]
    },
    {
      "cell_type": "code",
      "execution_count": null,
      "metadata": {
        "id": "-Fexvu7KMo61"
      },
      "outputs": [],
      "source": []
    },
    {
      "cell_type": "code",
      "execution_count": null,
      "metadata": {
        "colab": {
          "base_uri": "https://localhost:8080/",
          "height": 424
        },
        "id": "wVbREHeclQvH",
        "outputId": "86aba903-7e7b-4bb5-c9f1-e30d5abd1f51"
      },
      "outputs": [],
      "source": [
        "display(piqa_pair)"
      ]
    },
    {
      "cell_type": "code",
      "execution_count": null,
      "metadata": {
        "id": "l37Qe8do3csY"
      },
      "outputs": [],
      "source": [
        "piqa_pair.to_csv(\"/content/gdrive/MyDrive/outputs/PIQA-Pair-new.csv\", index=False, header=False)"
      ]
    },
    {
      "cell_type": "code",
      "execution_count": null,
      "metadata": {
        "id": "2Zaug10W4SCJ"
      },
      "outputs": [],
      "source": []
    }
  ],
  "metadata": {
    "accelerator": "GPU",
    "colab": {
      "collapsed_sections": [
        "QcyoYUXG1WPW"
      ],
      "machine_shape": "hm",
      "provenance": []
    },
    "gpuClass": "premium",
    "kernelspec": {
      "display_name": "Python 3.8.13 64-bit ('commonsense-env')",
      "language": "python",
      "name": "python3"
    },
    "language_info": {
      "name": "python",
      "version": "3.8.13"
    },
    "vscode": {
      "interpreter": {
        "hash": "6f4007100c6443a8e727b9f63f13e080e1241b0bd453ef16fb4b6d271ac8f8bd"
      }
    },
    "widgets": {
      "application/vnd.jupyter.widget-state+json": {
        "03521aae95c34572815802229539c5d4": {
          "model_module": "@jupyter-widgets/controls",
          "model_module_version": "1.5.0",
          "model_name": "HTMLModel",
          "state": {
            "_dom_classes": [],
            "_model_module": "@jupyter-widgets/controls",
            "_model_module_version": "1.5.0",
            "_model_name": "HTMLModel",
            "_view_count": null,
            "_view_module": "@jupyter-widgets/controls",
            "_view_module_version": "1.5.0",
            "_view_name": "HTMLView",
            "description": "",
            "description_tooltip": null,
            "layout": "IPY_MODEL_2f32317330cd443ab67e96e0d1b3ff5c",
            "placeholder": "​",
            "style": "IPY_MODEL_ca72cf2db6d04a209996c270fe3b9f7d",
            "value": "100%"
          }
        },
        "0ab60c0ee5104bf3b1b6bc3991a62574": {
          "model_module": "@jupyter-widgets/base",
          "model_module_version": "1.2.0",
          "model_name": "LayoutModel",
          "state": {
            "_model_module": "@jupyter-widgets/base",
            "_model_module_version": "1.2.0",
            "_model_name": "LayoutModel",
            "_view_count": null,
            "_view_module": "@jupyter-widgets/base",
            "_view_module_version": "1.2.0",
            "_view_name": "LayoutView",
            "align_content": null,
            "align_items": null,
            "align_self": null,
            "border": null,
            "bottom": null,
            "display": null,
            "flex": null,
            "flex_flow": null,
            "grid_area": null,
            "grid_auto_columns": null,
            "grid_auto_flow": null,
            "grid_auto_rows": null,
            "grid_column": null,
            "grid_gap": null,
            "grid_row": null,
            "grid_template_areas": null,
            "grid_template_columns": null,
            "grid_template_rows": null,
            "height": null,
            "justify_content": null,
            "justify_items": null,
            "left": null,
            "margin": null,
            "max_height": null,
            "max_width": null,
            "min_height": null,
            "min_width": null,
            "object_fit": null,
            "object_position": null,
            "order": null,
            "overflow": null,
            "overflow_x": null,
            "overflow_y": null,
            "padding": null,
            "right": null,
            "top": null,
            "visibility": null,
            "width": null
          }
        },
        "2412f258f5504276b7602d8030bd4de2": {
          "model_module": "@jupyter-widgets/base",
          "model_module_version": "1.2.0",
          "model_name": "LayoutModel",
          "state": {
            "_model_module": "@jupyter-widgets/base",
            "_model_module_version": "1.2.0",
            "_model_name": "LayoutModel",
            "_view_count": null,
            "_view_module": "@jupyter-widgets/base",
            "_view_module_version": "1.2.0",
            "_view_name": "LayoutView",
            "align_content": null,
            "align_items": null,
            "align_self": null,
            "border": null,
            "bottom": null,
            "display": null,
            "flex": null,
            "flex_flow": null,
            "grid_area": null,
            "grid_auto_columns": null,
            "grid_auto_flow": null,
            "grid_auto_rows": null,
            "grid_column": null,
            "grid_gap": null,
            "grid_row": null,
            "grid_template_areas": null,
            "grid_template_columns": null,
            "grid_template_rows": null,
            "height": null,
            "justify_content": null,
            "justify_items": null,
            "left": null,
            "margin": null,
            "max_height": null,
            "max_width": null,
            "min_height": null,
            "min_width": null,
            "object_fit": null,
            "object_position": null,
            "order": null,
            "overflow": null,
            "overflow_x": null,
            "overflow_y": null,
            "padding": null,
            "right": null,
            "top": null,
            "visibility": null,
            "width": null
          }
        },
        "2f32317330cd443ab67e96e0d1b3ff5c": {
          "model_module": "@jupyter-widgets/base",
          "model_module_version": "1.2.0",
          "model_name": "LayoutModel",
          "state": {
            "_model_module": "@jupyter-widgets/base",
            "_model_module_version": "1.2.0",
            "_model_name": "LayoutModel",
            "_view_count": null,
            "_view_module": "@jupyter-widgets/base",
            "_view_module_version": "1.2.0",
            "_view_name": "LayoutView",
            "align_content": null,
            "align_items": null,
            "align_self": null,
            "border": null,
            "bottom": null,
            "display": null,
            "flex": null,
            "flex_flow": null,
            "grid_area": null,
            "grid_auto_columns": null,
            "grid_auto_flow": null,
            "grid_auto_rows": null,
            "grid_column": null,
            "grid_gap": null,
            "grid_row": null,
            "grid_template_areas": null,
            "grid_template_columns": null,
            "grid_template_rows": null,
            "height": null,
            "justify_content": null,
            "justify_items": null,
            "left": null,
            "margin": null,
            "max_height": null,
            "max_width": null,
            "min_height": null,
            "min_width": null,
            "object_fit": null,
            "object_position": null,
            "order": null,
            "overflow": null,
            "overflow_x": null,
            "overflow_y": null,
            "padding": null,
            "right": null,
            "top": null,
            "visibility": null,
            "width": null
          }
        },
        "4a9ec4bf787e40d7973c4cb54907c992": {
          "model_module": "@jupyter-widgets/controls",
          "model_module_version": "1.5.0",
          "model_name": "HTMLModel",
          "state": {
            "_dom_classes": [],
            "_model_module": "@jupyter-widgets/controls",
            "_model_module_version": "1.5.0",
            "_model_name": "HTMLModel",
            "_view_count": null,
            "_view_module": "@jupyter-widgets/controls",
            "_view_module_version": "1.5.0",
            "_view_name": "HTMLView",
            "description": "",
            "description_tooltip": null,
            "layout": "IPY_MODEL_2412f258f5504276b7602d8030bd4de2",
            "placeholder": "​",
            "style": "IPY_MODEL_4d688e944a4842bb88b366c0126e805b",
            "value": " 16113/16113 [20:55&lt;00:00, 13.02it/s]"
          }
        },
        "4d688e944a4842bb88b366c0126e805b": {
          "model_module": "@jupyter-widgets/controls",
          "model_module_version": "1.5.0",
          "model_name": "DescriptionStyleModel",
          "state": {
            "_model_module": "@jupyter-widgets/controls",
            "_model_module_version": "1.5.0",
            "_model_name": "DescriptionStyleModel",
            "_view_count": null,
            "_view_module": "@jupyter-widgets/base",
            "_view_module_version": "1.2.0",
            "_view_name": "StyleView",
            "description_width": ""
          }
        },
        "7685b24370d44b5094ec8a40c58877a9": {
          "model_module": "@jupyter-widgets/controls",
          "model_module_version": "1.5.0",
          "model_name": "HBoxModel",
          "state": {
            "_dom_classes": [],
            "_model_module": "@jupyter-widgets/controls",
            "_model_module_version": "1.5.0",
            "_model_name": "HBoxModel",
            "_view_count": null,
            "_view_module": "@jupyter-widgets/controls",
            "_view_module_version": "1.5.0",
            "_view_name": "HBoxView",
            "box_style": "",
            "children": [
              "IPY_MODEL_03521aae95c34572815802229539c5d4",
              "IPY_MODEL_7d6c229ad6084fc3908e8145f7dc249d",
              "IPY_MODEL_4a9ec4bf787e40d7973c4cb54907c992"
            ],
            "layout": "IPY_MODEL_bc8d59177c57449ea09be62d97cb60cf"
          }
        },
        "7d6c229ad6084fc3908e8145f7dc249d": {
          "model_module": "@jupyter-widgets/controls",
          "model_module_version": "1.5.0",
          "model_name": "FloatProgressModel",
          "state": {
            "_dom_classes": [],
            "_model_module": "@jupyter-widgets/controls",
            "_model_module_version": "1.5.0",
            "_model_name": "FloatProgressModel",
            "_view_count": null,
            "_view_module": "@jupyter-widgets/controls",
            "_view_module_version": "1.5.0",
            "_view_name": "ProgressView",
            "bar_style": "success",
            "description": "",
            "description_tooltip": null,
            "layout": "IPY_MODEL_0ab60c0ee5104bf3b1b6bc3991a62574",
            "max": 16113,
            "min": 0,
            "orientation": "horizontal",
            "style": "IPY_MODEL_80853f726bca4c638254732b51fce4a0",
            "value": 16113
          }
        },
        "80853f726bca4c638254732b51fce4a0": {
          "model_module": "@jupyter-widgets/controls",
          "model_module_version": "1.5.0",
          "model_name": "ProgressStyleModel",
          "state": {
            "_model_module": "@jupyter-widgets/controls",
            "_model_module_version": "1.5.0",
            "_model_name": "ProgressStyleModel",
            "_view_count": null,
            "_view_module": "@jupyter-widgets/base",
            "_view_module_version": "1.2.0",
            "_view_name": "StyleView",
            "bar_color": null,
            "description_width": ""
          }
        },
        "bc8d59177c57449ea09be62d97cb60cf": {
          "model_module": "@jupyter-widgets/base",
          "model_module_version": "1.2.0",
          "model_name": "LayoutModel",
          "state": {
            "_model_module": "@jupyter-widgets/base",
            "_model_module_version": "1.2.0",
            "_model_name": "LayoutModel",
            "_view_count": null,
            "_view_module": "@jupyter-widgets/base",
            "_view_module_version": "1.2.0",
            "_view_name": "LayoutView",
            "align_content": null,
            "align_items": null,
            "align_self": null,
            "border": null,
            "bottom": null,
            "display": null,
            "flex": null,
            "flex_flow": null,
            "grid_area": null,
            "grid_auto_columns": null,
            "grid_auto_flow": null,
            "grid_auto_rows": null,
            "grid_column": null,
            "grid_gap": null,
            "grid_row": null,
            "grid_template_areas": null,
            "grid_template_columns": null,
            "grid_template_rows": null,
            "height": null,
            "justify_content": null,
            "justify_items": null,
            "left": null,
            "margin": null,
            "max_height": null,
            "max_width": null,
            "min_height": null,
            "min_width": null,
            "object_fit": null,
            "object_position": null,
            "order": null,
            "overflow": null,
            "overflow_x": null,
            "overflow_y": null,
            "padding": null,
            "right": null,
            "top": null,
            "visibility": null,
            "width": null
          }
        },
        "ca72cf2db6d04a209996c270fe3b9f7d": {
          "model_module": "@jupyter-widgets/controls",
          "model_module_version": "1.5.0",
          "model_name": "DescriptionStyleModel",
          "state": {
            "_model_module": "@jupyter-widgets/controls",
            "_model_module_version": "1.5.0",
            "_model_name": "DescriptionStyleModel",
            "_view_count": null,
            "_view_module": "@jupyter-widgets/base",
            "_view_module_version": "1.2.0",
            "_view_name": "StyleView",
            "description_width": ""
          }
        }
      }
    }
  },
  "nbformat": 4,
  "nbformat_minor": 0
}
