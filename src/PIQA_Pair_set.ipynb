{
  "cells": [
    {
      "cell_type": "markdown",
      "metadata": {
        "id": "b0xIHApR4JXZ"
      },
      "source": [
        "# 0. Preliminary"
      ]
    },
    {
      "cell_type": "code",
      "execution_count": null,
      "metadata": {
        "colab": {
          "base_uri": "https://localhost:8080/"
        },
        "id": "PX4jvnM54D92",
        "outputId": "2b28b50f-66f9-4b07-c9e3-ef8dfecdba59"
      },
      "outputs": [],
      "source": [
        "from google.colab import drive\n",
        "drive.mount('/content/gdrive')"
      ]
    },
    {
      "cell_type": "markdown",
      "metadata": {
        "id": "714YpPX04VbE"
      },
      "source": [
        "# 1. Code"
      ]
    },
    {
      "cell_type": "code",
      "execution_count": null,
      "metadata": {
        "id": "zXkpN-SC4izq"
      },
      "outputs": [],
      "source": [
        "import pandas as pd\n",
        "import json\n",
        "from tqdm import notebook, tqdm"
      ]
    },
    {
      "cell_type": "code",
      "execution_count": null,
      "metadata": {
        "colab": {
          "base_uri": "https://localhost:8080/",
          "height": 424
        },
        "id": "eZQ1e7Fy5Ie9",
        "outputId": "10f11515-bb38-4d0e-bf7e-08cdadbf56b8"
      },
      "outputs": [],
      "source": [
        "colnames = ['sen','goal_verbs','sol_verbs']\n",
        "piqa_pair = pd.read_csv('/content/gdrive/MyDrive/outputs/PIQA-Pair-new.csv', names=colnames, header=None)\n",
        "piqa_pair['goal_verbs'] = piqa_pair['goal_verbs'].apply(lambda x: set(map(lambda y: y[1:-1], x[1:-1].split(', '))) if x!=\"set()\" else set())\n",
        "piqa_pair['sol_verbs'] = piqa_pair['sol_verbs'].apply(lambda x: set(map(lambda y: y[1:-1], x[1:-1].split(', '))) if x!=\"set()\" else set())\n",
        "display(piqa_pair)"
      ]
    },
    {
      "cell_type": "code",
      "execution_count": null,
      "metadata": {
        "colab": {
          "base_uri": "https://localhost:8080/",
          "height": 520
        },
        "id": "_3nsHARCWV31",
        "outputId": "f09ce61a-374e-48cc-a193-3f50b590c724"
      },
      "outputs": [],
      "source": [
        "colnames = ['head','relation','tail','verbs_head','verbs_tail','match']\n",
        "atomic_train = pd.read_csv('/content/gdrive/MyDrive/commonsense-reasoning/src/outputs/atomic_train_match_full.tsv', sep='\\t', names=colnames, header=None)\n",
        "atomic_train['verbs_head'] = atomic_train['verbs_head'].apply(lambda x: set(map(lambda y: y[1:-1], x[1:-1].split(', '))) if type(x) == str else set())\n",
        "atomic_train['verbs_tail'] = atomic_train['verbs_tail'].apply(lambda x: set(map(lambda y: y[1:-1], x[1:-1].split(', '))) if type(x) == str else set())\n",
        "atomic_train['match']=0\n",
        "display(atomic_train)"
      ]
    },
    {
      "cell_type": "code",
      "execution_count": null,
      "metadata": {
        "colab": {
          "base_uri": "https://localhost:8080/",
          "height": 49,
          "referenced_widgets": [
            "0ec484fec6424e7fa5970c9669784f97",
            "aa774f4b275c4657938a01e2b52f4e43",
            "42b099c6c44b4499a59e595dbed2f931",
            "81a1221aefbf4365bdd79d010cabbac6",
            "5601b989bedc47c7935fa86c44231c7b",
            "816a228b868742a3b4764b89208f5cfd",
            "0e66212a238d463392a0e54d2c558ff2",
            "2743b374b34644ba857997351c0d88b9",
            "6b1000fb3e2440a0adfcad60c837b3bb",
            "80ee6179de4348f681400cda0ae4cee9",
            "6bda88faa98f496a9bd96e6243972b9e"
          ]
        },
        "id": "oTtH1bo-Lcvm",
        "outputId": "7470f490-7bd1-45f7-a737-320b7e385920"
      },
      "outputs": [],
      "source": [
        "verbs_lst = []\n",
        "piqa_idx_lst = []\n",
        "df_lst = []\n",
        "\n",
        "for row in notebook.tqdm(piqa_pair.itertuples(), total=len(piqa_pair)):\n",
        "  verb1 = list(piqa_pair.at[row.Index, 'goal_verbs'])\n",
        "  verb2 = list(piqa_pair.at[row.Index, 'sol_verbs'])\n",
        "\n",
        "  for i in range(len(verb1)):\n",
        "    for j in range(len(verb2)):\n",
        "      tok1 = verb1[i]\n",
        "      tok2 = verb2[j]\n",
        "      verbs_lst.append((tok1, tok2))\n",
        "      piqa_idx_lst.append(row.Index)\n",
        "      df_lst.append([row.Index, tok1, tok2])\n"
      ]
    },
    {
      "cell_type": "code",
      "execution_count": null,
      "metadata": {
        "colab": {
          "base_uri": "https://localhost:8080/"
        },
        "id": "wLNRtCyEYtbh",
        "outputId": "6170beac-9183-47f7-e8db-693588a30655"
      },
      "outputs": [],
      "source": [
        "print(len(verbs_lst))\n",
        "print(len(piqa_idx_lst))"
      ]
    },
    {
      "cell_type": "code",
      "execution_count": null,
      "metadata": {
        "id": "Te_EWxRGLl_t"
      },
      "outputs": [],
      "source": [
        "newPiqa = pd.DataFrame(df_lst, columns=['Idx', 'Tok1', 'Tok2'])"
      ]
    },
    {
      "cell_type": "code",
      "execution_count": null,
      "metadata": {
        "colab": {
          "base_uri": "https://localhost:8080/",
          "height": 206
        },
        "id": "cFalD4kjNHC_",
        "outputId": "ed44061b-57a2-4cfa-d4ee-0059b98a95c5"
      },
      "outputs": [],
      "source": [
        "display(newPiqa.head())"
      ]
    },
    {
      "cell_type": "code",
      "execution_count": null,
      "metadata": {
        "id": "7pgkKYfKNIdz"
      },
      "outputs": [],
      "source": [
        "newPiqa.to_csv(\"/content/gdrive/MyDrive/outputs/newPIQA.csv\", index=False, header=False)"
      ]
    }
  ],
  "metadata": {
    "accelerator": "GPU",
    "colab": {
      "collapsed_sections": [
        "b0xIHApR4JXZ"
      ],
      "machine_shape": "hm",
      "provenance": []
    },
    "gpuClass": "premium",
    "kernelspec": {
      "display_name": "Python 3.8.13 64-bit ('commonsense-env')",
      "language": "python",
      "name": "python3"
    },
    "language_info": {
      "name": "python",
      "version": "3.8.13"
    },
    "vscode": {
      "interpreter": {
        "hash": "6f4007100c6443a8e727b9f63f13e080e1241b0bd453ef16fb4b6d271ac8f8bd"
      }
    },
    "widgets": {
      "application/vnd.jupyter.widget-state+json": {
        "0e66212a238d463392a0e54d2c558ff2": {
          "model_module": "@jupyter-widgets/controls",
          "model_module_version": "1.5.0",
          "model_name": "DescriptionStyleModel",
          "state": {
            "_model_module": "@jupyter-widgets/controls",
            "_model_module_version": "1.5.0",
            "_model_name": "DescriptionStyleModel",
            "_view_count": null,
            "_view_module": "@jupyter-widgets/base",
            "_view_module_version": "1.2.0",
            "_view_name": "StyleView",
            "description_width": ""
          }
        },
        "0ec484fec6424e7fa5970c9669784f97": {
          "model_module": "@jupyter-widgets/controls",
          "model_module_version": "1.5.0",
          "model_name": "HBoxModel",
          "state": {
            "_dom_classes": [],
            "_model_module": "@jupyter-widgets/controls",
            "_model_module_version": "1.5.0",
            "_model_name": "HBoxModel",
            "_view_count": null,
            "_view_module": "@jupyter-widgets/controls",
            "_view_module_version": "1.5.0",
            "_view_name": "HBoxView",
            "box_style": "",
            "children": [
              "IPY_MODEL_aa774f4b275c4657938a01e2b52f4e43",
              "IPY_MODEL_42b099c6c44b4499a59e595dbed2f931",
              "IPY_MODEL_81a1221aefbf4365bdd79d010cabbac6"
            ],
            "layout": "IPY_MODEL_5601b989bedc47c7935fa86c44231c7b"
          }
        },
        "2743b374b34644ba857997351c0d88b9": {
          "model_module": "@jupyter-widgets/base",
          "model_module_version": "1.2.0",
          "model_name": "LayoutModel",
          "state": {
            "_model_module": "@jupyter-widgets/base",
            "_model_module_version": "1.2.0",
            "_model_name": "LayoutModel",
            "_view_count": null,
            "_view_module": "@jupyter-widgets/base",
            "_view_module_version": "1.2.0",
            "_view_name": "LayoutView",
            "align_content": null,
            "align_items": null,
            "align_self": null,
            "border": null,
            "bottom": null,
            "display": null,
            "flex": null,
            "flex_flow": null,
            "grid_area": null,
            "grid_auto_columns": null,
            "grid_auto_flow": null,
            "grid_auto_rows": null,
            "grid_column": null,
            "grid_gap": null,
            "grid_row": null,
            "grid_template_areas": null,
            "grid_template_columns": null,
            "grid_template_rows": null,
            "height": null,
            "justify_content": null,
            "justify_items": null,
            "left": null,
            "margin": null,
            "max_height": null,
            "max_width": null,
            "min_height": null,
            "min_width": null,
            "object_fit": null,
            "object_position": null,
            "order": null,
            "overflow": null,
            "overflow_x": null,
            "overflow_y": null,
            "padding": null,
            "right": null,
            "top": null,
            "visibility": null,
            "width": null
          }
        },
        "42b099c6c44b4499a59e595dbed2f931": {
          "model_module": "@jupyter-widgets/controls",
          "model_module_version": "1.5.0",
          "model_name": "FloatProgressModel",
          "state": {
            "_dom_classes": [],
            "_model_module": "@jupyter-widgets/controls",
            "_model_module_version": "1.5.0",
            "_model_name": "FloatProgressModel",
            "_view_count": null,
            "_view_module": "@jupyter-widgets/controls",
            "_view_module_version": "1.5.0",
            "_view_name": "ProgressView",
            "bar_style": "success",
            "description": "",
            "description_tooltip": null,
            "layout": "IPY_MODEL_2743b374b34644ba857997351c0d88b9",
            "max": 16113,
            "min": 0,
            "orientation": "horizontal",
            "style": "IPY_MODEL_6b1000fb3e2440a0adfcad60c837b3bb",
            "value": 16113
          }
        },
        "5601b989bedc47c7935fa86c44231c7b": {
          "model_module": "@jupyter-widgets/base",
          "model_module_version": "1.2.0",
          "model_name": "LayoutModel",
          "state": {
            "_model_module": "@jupyter-widgets/base",
            "_model_module_version": "1.2.0",
            "_model_name": "LayoutModel",
            "_view_count": null,
            "_view_module": "@jupyter-widgets/base",
            "_view_module_version": "1.2.0",
            "_view_name": "LayoutView",
            "align_content": null,
            "align_items": null,
            "align_self": null,
            "border": null,
            "bottom": null,
            "display": null,
            "flex": null,
            "flex_flow": null,
            "grid_area": null,
            "grid_auto_columns": null,
            "grid_auto_flow": null,
            "grid_auto_rows": null,
            "grid_column": null,
            "grid_gap": null,
            "grid_row": null,
            "grid_template_areas": null,
            "grid_template_columns": null,
            "grid_template_rows": null,
            "height": null,
            "justify_content": null,
            "justify_items": null,
            "left": null,
            "margin": null,
            "max_height": null,
            "max_width": null,
            "min_height": null,
            "min_width": null,
            "object_fit": null,
            "object_position": null,
            "order": null,
            "overflow": null,
            "overflow_x": null,
            "overflow_y": null,
            "padding": null,
            "right": null,
            "top": null,
            "visibility": null,
            "width": null
          }
        },
        "6b1000fb3e2440a0adfcad60c837b3bb": {
          "model_module": "@jupyter-widgets/controls",
          "model_module_version": "1.5.0",
          "model_name": "ProgressStyleModel",
          "state": {
            "_model_module": "@jupyter-widgets/controls",
            "_model_module_version": "1.5.0",
            "_model_name": "ProgressStyleModel",
            "_view_count": null,
            "_view_module": "@jupyter-widgets/base",
            "_view_module_version": "1.2.0",
            "_view_name": "StyleView",
            "bar_color": null,
            "description_width": ""
          }
        },
        "6bda88faa98f496a9bd96e6243972b9e": {
          "model_module": "@jupyter-widgets/controls",
          "model_module_version": "1.5.0",
          "model_name": "DescriptionStyleModel",
          "state": {
            "_model_module": "@jupyter-widgets/controls",
            "_model_module_version": "1.5.0",
            "_model_name": "DescriptionStyleModel",
            "_view_count": null,
            "_view_module": "@jupyter-widgets/base",
            "_view_module_version": "1.2.0",
            "_view_name": "StyleView",
            "description_width": ""
          }
        },
        "80ee6179de4348f681400cda0ae4cee9": {
          "model_module": "@jupyter-widgets/base",
          "model_module_version": "1.2.0",
          "model_name": "LayoutModel",
          "state": {
            "_model_module": "@jupyter-widgets/base",
            "_model_module_version": "1.2.0",
            "_model_name": "LayoutModel",
            "_view_count": null,
            "_view_module": "@jupyter-widgets/base",
            "_view_module_version": "1.2.0",
            "_view_name": "LayoutView",
            "align_content": null,
            "align_items": null,
            "align_self": null,
            "border": null,
            "bottom": null,
            "display": null,
            "flex": null,
            "flex_flow": null,
            "grid_area": null,
            "grid_auto_columns": null,
            "grid_auto_flow": null,
            "grid_auto_rows": null,
            "grid_column": null,
            "grid_gap": null,
            "grid_row": null,
            "grid_template_areas": null,
            "grid_template_columns": null,
            "grid_template_rows": null,
            "height": null,
            "justify_content": null,
            "justify_items": null,
            "left": null,
            "margin": null,
            "max_height": null,
            "max_width": null,
            "min_height": null,
            "min_width": null,
            "object_fit": null,
            "object_position": null,
            "order": null,
            "overflow": null,
            "overflow_x": null,
            "overflow_y": null,
            "padding": null,
            "right": null,
            "top": null,
            "visibility": null,
            "width": null
          }
        },
        "816a228b868742a3b4764b89208f5cfd": {
          "model_module": "@jupyter-widgets/base",
          "model_module_version": "1.2.0",
          "model_name": "LayoutModel",
          "state": {
            "_model_module": "@jupyter-widgets/base",
            "_model_module_version": "1.2.0",
            "_model_name": "LayoutModel",
            "_view_count": null,
            "_view_module": "@jupyter-widgets/base",
            "_view_module_version": "1.2.0",
            "_view_name": "LayoutView",
            "align_content": null,
            "align_items": null,
            "align_self": null,
            "border": null,
            "bottom": null,
            "display": null,
            "flex": null,
            "flex_flow": null,
            "grid_area": null,
            "grid_auto_columns": null,
            "grid_auto_flow": null,
            "grid_auto_rows": null,
            "grid_column": null,
            "grid_gap": null,
            "grid_row": null,
            "grid_template_areas": null,
            "grid_template_columns": null,
            "grid_template_rows": null,
            "height": null,
            "justify_content": null,
            "justify_items": null,
            "left": null,
            "margin": null,
            "max_height": null,
            "max_width": null,
            "min_height": null,
            "min_width": null,
            "object_fit": null,
            "object_position": null,
            "order": null,
            "overflow": null,
            "overflow_x": null,
            "overflow_y": null,
            "padding": null,
            "right": null,
            "top": null,
            "visibility": null,
            "width": null
          }
        },
        "81a1221aefbf4365bdd79d010cabbac6": {
          "model_module": "@jupyter-widgets/controls",
          "model_module_version": "1.5.0",
          "model_name": "HTMLModel",
          "state": {
            "_dom_classes": [],
            "_model_module": "@jupyter-widgets/controls",
            "_model_module_version": "1.5.0",
            "_model_name": "HTMLModel",
            "_view_count": null,
            "_view_module": "@jupyter-widgets/controls",
            "_view_module_version": "1.5.0",
            "_view_name": "HTMLView",
            "description": "",
            "description_tooltip": null,
            "layout": "IPY_MODEL_80ee6179de4348f681400cda0ae4cee9",
            "placeholder": "​",
            "style": "IPY_MODEL_6bda88faa98f496a9bd96e6243972b9e",
            "value": " 16113/16113 [00:00&lt;00:00, 35395.57it/s]"
          }
        },
        "aa774f4b275c4657938a01e2b52f4e43": {
          "model_module": "@jupyter-widgets/controls",
          "model_module_version": "1.5.0",
          "model_name": "HTMLModel",
          "state": {
            "_dom_classes": [],
            "_model_module": "@jupyter-widgets/controls",
            "_model_module_version": "1.5.0",
            "_model_name": "HTMLModel",
            "_view_count": null,
            "_view_module": "@jupyter-widgets/controls",
            "_view_module_version": "1.5.0",
            "_view_name": "HTMLView",
            "description": "",
            "description_tooltip": null,
            "layout": "IPY_MODEL_816a228b868742a3b4764b89208f5cfd",
            "placeholder": "​",
            "style": "IPY_MODEL_0e66212a238d463392a0e54d2c558ff2",
            "value": "100%"
          }
        }
      }
    }
  },
  "nbformat": 4,
  "nbformat_minor": 0
}
