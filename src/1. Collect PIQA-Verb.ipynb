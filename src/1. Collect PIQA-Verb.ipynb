{
 "cells": [
  {
   "cell_type": "markdown",
   "metadata": {},
   "source": [
    "# 1. Collect PIQA-Verb"
   ]
  },
  {
   "cell_type": "code",
   "execution_count": null,
   "metadata": {},
   "outputs": [],
   "source": [
    "import pandas as pd\n",
    "import json\n",
    "\n",
    "import spacy\n",
    "from tqdm import tqdm"
   ]
  },
  {
   "cell_type": "markdown",
   "metadata": {},
   "source": [
    "## 1.1 Load PIQA Dataset"
   ]
  },
  {
   "cell_type": "markdown",
   "metadata": {},
   "source": [
    "### 1.1.1 Load PIQA - Goal and Solution"
   ]
  },
  {
   "cell_type": "code",
   "execution_count": null,
   "metadata": {},
   "outputs": [],
   "source": [
    "tmp = []\n",
    "with open('./PIQA/train.jsonl') as f:\n",
    "    for obj in f:\n",
    "        tmp.append(json.loads(obj))\n",
    "\n",
    "with open('./PIQA/valid.jsonl') as f:\n",
    "    for obj in f:\n",
    "        tmp.append(json.loads(obj))\n",
    "\n",
    "piqa = pd.DataFrame(tmp)\n",
    "display(piqa.head())\n"
   ]
  },
  {
   "cell_type": "markdown",
   "metadata": {},
   "source": [
    "### 1.1.2 Load PIQA - Correct Solution"
   ]
  },
  {
   "cell_type": "code",
   "execution_count": null,
   "metadata": {},
   "outputs": [],
   "source": [
    "answer = []\n",
    "with open('./PIQA/train-labels.lst') as f:\n",
    "    answer += f.read().splitlines()\n",
    "\n",
    "with open('./PIQA/valid-labels.lst') as f:\n",
    "    answer += f.read().splitlines()\n",
    "\n",
    "piqa['answer'] = answer # If answer is 0, sol1 is correct, else sol2 is correct\n",
    "piqa['sol'] = piqa.apply(lambda x: x['sol1'] if x['answer'] == '0' else x['sol2'], axis=1)\n",
    "piqa.drop(['sol1', 'sol2', 'answer'], axis=1, inplace=True)\n",
    "\n",
    "display(piqa.head())"
   ]
  },
  {
   "cell_type": "markdown",
   "metadata": {},
   "source": [
    "### 1.1.3 Merge Goal and Solution with Preprocessing"
   ]
  },
  {
   "cell_type": "code",
   "execution_count": null,
   "metadata": {},
   "outputs": [],
   "source": [
    "# Split the string by '.'.\n",
    "# If not available, return the original string.\n",
    "# Then capitalize the first letter of each sentences.\n",
    "# Join the sentences by '. '.\n",
    "def preprocess(text):\n",
    "    return '. '.join([s.capitalize() for s in text.split('.') if s])\n",
    "    \n",
    "piqa['goal'] = piqa['goal'].apply(preprocess)\n",
    "piqa['sol'] = piqa['sol'].apply(preprocess)\n",
    "\n",
    "display(piqa.head())"
   ]
  },
  {
   "cell_type": "code",
   "execution_count": null,
   "metadata": {},
   "outputs": [],
   "source": [
    "# Merge goal and sol\n",
    "piqa['text'] = piqa.apply(lambda x: 'Q: ' + x['goal'] + ' / A: ' + x['sol'], axis=1)\n",
    "\n",
    "piqa.drop(['goal', 'sol'], axis=1, inplace=True)\n",
    "\n",
    "pd.set_option('display.max_colwidth', -1)\n",
    "display(piqa.head())"
   ]
  },
  {
   "cell_type": "code",
   "execution_count": null,
   "metadata": {},
   "outputs": [],
   "source": [
    "display(piqa.sample(30))"
   ]
  },
  {
   "cell_type": "markdown",
   "metadata": {},
   "source": [
    "## 1.2 Collect PIQA-Verb"
   ]
  },
  {
   "cell_type": "markdown",
   "metadata": {},
   "source": [
    "```$ python -m spacy download en_core_web_trf```"
   ]
  },
  {
   "cell_type": "code",
   "execution_count": null,
   "metadata": {},
   "outputs": [],
   "source": [
    "piqa_length = len(piqa)\n",
    "print(piqa_length)"
   ]
  },
  {
   "cell_type": "markdown",
   "metadata": {},
   "source": [
    "### 1.2.1 Collect PIQA-Verb by ```en_core_web_trf``` in spaCy"
   ]
  },
  {
   "cell_type": "code",
   "execution_count": null,
   "metadata": {},
   "outputs": [],
   "source": [
    "nlp = spacy.load('en_core_web_trf')\n",
    "\n",
    "piqa['verbs'] = None\n",
    "piqa_verb = set()\n",
    "\n",
    "for row in tqdm(piqa.itertuples(), total=piqa_length):\n",
    "    col = nlp(row.text)\n",
    "    \n",
    "    tmp = set([token.lemma_ for token in col if token.pos_ == 'VERB'])\n",
    "    \n",
    "    piqa.at[row.Index, 'verbs'] = tmp\n",
    "    piqa_verb.update(tmp)\n",
    "\n",
    "print(len(piqa_verb))"
   ]
  },
  {
   "cell_type": "code",
   "execution_count": null,
   "metadata": {},
   "outputs": [],
   "source": [
    "piqa_df = pd.DataFrame(piqa)\n",
    "piqa_df.to_csv('./outputs/PIQA-Verb/PIQA.csv', index=False)"
   ]
  },
  {
   "cell_type": "markdown",
   "metadata": {},
   "source": [
    "### 1.2.2 Save PIQA-Verb by version"
   ]
  },
  {
   "cell_type": "code",
   "execution_count": null,
   "metadata": {},
   "outputs": [],
   "source": [
    "piqa_verb_df = pd.DataFrame(piqa_verb)\n",
    "piqa_verb_df.to_csv(\"./outputs/PIQA-Verb/PIQA-Verb.txt\", index=False, header=False)\n",
    "\n",
    "print(len(piqa_verb_df))"
   ]
  }
 ],
 "metadata": {
  "kernelspec": {
   "display_name": "Python 3.8.13 64-bit ('commonsense-env')",
   "language": "python",
   "name": "python3"
  },
  "language_info": {
   "codemirror_mode": {
    "name": "ipython",
    "version": 3
   },
   "file_extension": ".py",
   "mimetype": "text/x-python",
   "name": "python",
   "nbconvert_exporter": "python",
   "pygments_lexer": "ipython3",
   "version": "3.8.13"
  },
  "orig_nbformat": 4,
  "vscode": {
   "interpreter": {
    "hash": "6f4007100c6443a8e727b9f63f13e080e1241b0bd453ef16fb4b6d271ac8f8bd"
   }
  }
 },
 "nbformat": 4,
 "nbformat_minor": 2
}
